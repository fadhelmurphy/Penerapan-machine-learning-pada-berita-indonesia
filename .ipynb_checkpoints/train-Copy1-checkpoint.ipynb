{
 "cells": [
  {
   "cell_type": "code",
   "execution_count": 2,
   "metadata": {},
   "outputs": [],
   "source": [
    "import codecs, json\n",
    "import numpy as np\n",
    "import pandas as pd\n",
    "import glob\n",
    "import pickle\n",
    "from nltk.tokenize import word_tokenize\n",
    "from tqdm import tqdm"
   ]
  },
  {
   "cell_type": "code",
   "execution_count": null,
   "metadata": {},
   "outputs": [],
   "source": [
    "data_path = 'data/'\n",
    "files = glob.glob(data_path + '/*')\n",
    "train = pickle.load(open(files[1], 'rb'))\n",
    "test = pickle.load(open(files[0], 'rb'))\n",
    "d_train = pd.DataFrame({'text': train[0], 'kategori': train[1]})\n",
    "d_test = pd.DataFrame({'text': test[0], 'kategori': test[1]})\n",
    "githubdata = pd.concat([d_train, d_test], ignore_index=True, sort =False)\n",
    "githubdata = githubdata.loc[githubdata['kategori'] == 'bisnis'].reset_index(drop=True)\n",
    "githubdata = githubdata.loc[0:299]\n",
    "print(len(githubdata))"
   ]
  },
  {
   "cell_type": "code",
   "execution_count": 3,
   "metadata": {},
   "outputs": [],
   "source": [
    "from Sastrawi.Stemmer.StemmerFactory import StemmerFactory\n",
    "from preprocess import prep\n",
    "factory = StemmerFactory()\n",
    "stemmer = factory.create_stemmer()\n",
    "\n",
    "# import StopWordRemoverFactory class\n",
    "from Sastrawi.StopWordRemover.StopWordRemoverFactory import StopWordRemoverFactory, StopWordRemover, ArrayDictionary\n",
    "stoplist = pd.read_csv('stoplist.csv')\n",
    "\n",
    "# Ambil Stopword bawaan\n",
    "stop_factory = StopWordRemoverFactory().get_stop_words()\n",
    "\n",
    "# Custom stopword\n",
    "data = stoplist['list'].tolist()\n",
    "\n",
    "dictionary = ArrayDictionary(data)\n",
    "stopword = StopWordRemover(dictionary)"
   ]
  },
  {
   "cell_type": "markdown",
   "metadata": {},
   "source": [
    "# CREATING VOCAB & WORD COUNTS"
   ]
  },
  {
   "cell_type": "code",
   "execution_count": 7,
   "metadata": {},
   "outputs": [],
   "source": [
    "def sort_coo(coo_matrix):\n",
    "    tuples = zip(coo_matrix.col, coo_matrix.data)\n",
    "    return sorted(tuples, key=lambda x: (x[1], x[0]), reverse=True)\n",
    "\n",
    "def extract_topn_from_vector(feature_names, sorted_items, topn=10):\n",
    "    \"\"\"get the feature names and tf-idf score of top n items\"\"\"\n",
    "    \n",
    "    #use only topn items from vector\n",
    "    sorted_items = sorted_items[:topn]\n",
    "\n",
    "    score_vals = []\n",
    "    feature_vals = []\n",
    "    \n",
    "    # word index and corresponding tf-idf score\n",
    "    for idx, score in sorted_items:\n",
    "        \n",
    "        #keep track of feature name and its corresponding score\n",
    "        score_vals.append(round(score, 3))\n",
    "        feature_vals.append(feature_names[idx])\n",
    "\n",
    "    #create a tuples of feature,score\n",
    "    #results = zip(feature_vals,score_vals)\n",
    "    results= {}\n",
    "    for idx in range(len(feature_vals)):\n",
    "        results[feature_vals[idx]]=score_vals[idx]\n",
    "    \n",
    "    return results"
   ]
  },
  {
   "cell_type": "code",
   "execution_count": 8,
   "metadata": {},
   "outputs": [
    {
     "name": "stderr",
     "output_type": "stream",
     "text": [
      "c:\\python37\\lib\\site-packages\\sklearn\\feature_extraction\\text.py:386: UserWarning: Your stop_words may be inconsistent with your preprocessing. Tokenizing the stop words generated tokens ['baiknya', 'berkali', 'kali', 'kurangnya', 'mata', 'olah', 'sekurang', 'setidak', 'tama', 'tidaknya'] not in stop_words.\n",
      "  'stop_words.' % sorted(inconsistent))\n"
     ]
    },
    {
     "data": {
      "text/plain": [
       "['menanggapi',\n",
       " 'aksi',\n",
       " 'eks',\n",
       " 'pekerja',\n",
       " 'pt',\n",
       " 'freeport',\n",
       " 'indonesia',\n",
       " 'ptfi',\n",
       " 'menggelar',\n",
       " 'tenda']"
      ]
     },
     "execution_count": 8,
     "metadata": {},
     "output_type": "execute_result"
    }
   ],
   "source": [
    "from sklearn.feature_extraction.text import CountVectorizer\n",
    "#get the text column \n",
    "docs=githubdata['text'].tolist()\n",
    "cv=CountVectorizer(max_df=0.85,stop_words=data,max_features=10000)\n",
    "word_count_vector=cv.fit_transform(docs)\n",
    "list(cv.vocabulary_.keys())[:10]"
   ]
  },
  {
   "cell_type": "markdown",
   "metadata": {},
   "source": [
    "# TfidfTransformer to Compute Inverse Document Frequency (IDF)"
   ]
  },
  {
   "cell_type": "code",
   "execution_count": 9,
   "metadata": {},
   "outputs": [
    {
     "data": {
      "text/plain": [
       "TfidfTransformer()"
      ]
     },
     "execution_count": 9,
     "metadata": {},
     "output_type": "execute_result"
    }
   ],
   "source": [
    "from sklearn.feature_extraction.text import TfidfTransformer\n",
    "\n",
    "tfidf_transformer=TfidfTransformer(smooth_idf=True,use_idf=True)\n",
    "tfidf_transformer.fit(word_count_vector)"
   ]
  },
  {
   "cell_type": "markdown",
   "metadata": {},
   "source": [
    "# Computing TF-IDF and Extracting keywords"
   ]
  },
  {
   "cell_type": "code",
   "execution_count": 10,
   "metadata": {},
   "outputs": [],
   "source": [
    "# get test docs into a list\n",
    "docs_test=githubdata['stemmed'].tolist()"
   ]
  },
  {
   "cell_type": "code",
   "execution_count": 12,
   "metadata": {},
   "outputs": [
    {
     "name": "stdout",
     "output_type": "stream",
     "text": [
      "\n",
      "=====Doc=====\n",
      "liputancom jakarta kasih sayang valentines day ajang tepat pasang bahagia sama buket bunga cokelat tonton film bioskop jarang bikin makan malam romantis mewah akan uras isi dompet di tengah bukan jangan jadi ini suatu alas hadiah laku khusus pasang tetap raya valentine pasang jaga isi dompet tahu cara adalah tips kutip laman smartaboutmoney boleh pasang hadiah halhal istimewa saat valentine jangan terlalu lebih milik hubung pasang sikap hitung pasang tidak mengapa banding anda harus tahan lapar valentine atau bahkan hilang jika lama jalin hubung pasang buka uang anda agar pasang erti tidak harap hal spesial dari anda\n",
      "\n",
      "===Keywords===\n",
      "valentine 0.439\n",
      "hadiah 0.278\n",
      "dompet 0.266\n",
      "isi 0.256\n",
      "smartaboutmoney 0.157\n",
      "lapar 0.157\n",
      "laku 0.157\n",
      "jaga 0.157\n",
      "hilang 0.157\n",
      "bioskop 0.157\n"
     ]
    }
   ],
   "source": [
    "# you only needs to do this once, this is a mapping of index to \n",
    "feature_names=cv.get_feature_names()\n",
    "\n",
    "# get the document that we want to extract keywords from\n",
    "doc=docs_test[1]\n",
    "\n",
    "#generate tf-idf for the given document\n",
    "tf_idf_vector=tfidf_transformer.transform(cv.transform([doc]))\n",
    "\n",
    "#sort the tf-idf vectors by descending order of scores\n",
    "sorted_items=sort_coo(tf_idf_vector.tocoo())\n",
    "\n",
    "#extract only the top n; n here is 10\n",
    "keywords=extract_topn_from_vector(feature_names,sorted_items,10)\n",
    "\n",
    "# now print the results\n",
    "print(\"\\n=====Doc=====\")\n",
    "print(doc)\n",
    "print(\"\\n===Keywords===\")\n",
    "for k in keywords:\n",
    "    print(k,keywords[k])\n"
   ]
  },
  {
   "cell_type": "markdown",
   "metadata": {},
   "source": [
    "# PREPROCESSING"
   ]
  },
  {
   "cell_type": "code",
   "execution_count": 6,
   "metadata": {},
   "outputs": [
    {
     "name": "stderr",
     "output_type": "stream",
     "text": [
      "\r",
      "  0%|                                                                                          | 0/300 [00:00<?, ?it/s]"
     ]
    },
    {
     "name": "stdout",
     "output_type": "stream",
     "text": [
      "300\n"
     ]
    },
    {
     "name": "stderr",
     "output_type": "stream",
     "text": [
      "100%|████████████████████████████████████████████████████████████████████████████████| 300/300 [06:50<00:00,  1.37s/it]\n"
     ]
    }
   ],
   "source": [
    "for i in tqdm(range(len(githubdata))):\n",
    "    githubdata.loc[i, 'stemmed'] = stemmer.stem(stopword.remove(prep(githubdata.loc[i, 'text'])))\n",
    "# githubdata = githubdata.drop(columns=['text']) # Get rid of the unstemmed column.\n",
    "# githubdata.to_json('bigdata.json', orient='records', lines=True)"
   ]
  },
  {
   "cell_type": "markdown",
   "metadata": {},
   "source": [
    "# FIT & TRANSFORM LABEL"
   ]
  },
  {
   "cell_type": "code",
   "execution_count": 6,
   "metadata": {},
   "outputs": [],
   "source": [
    "from sklearn.feature_extraction.text import TfidfVectorizer as tfidf\n",
    "from sklearn.model_selection import train_test_split\n",
    "vectorizer=tfidf()\n",
    "X = vectorizer.fit_transform(githubdata['stemmed'])\n",
    "y=githubdata['kategori']\n",
    "x_train,x_test,y_train,y_test= train_test_split(X,y,\n",
    "test_size=.075, random_state= 42) "
   ]
  },
  {
   "cell_type": "markdown",
   "metadata": {},
   "source": [
    "# TRAINING"
   ]
  },
  {
   "cell_type": "code",
   "execution_count": 7,
   "metadata": {},
   "outputs": [
    {
     "name": "stdout",
     "output_type": "stream",
     "text": [
      "bilang itu profesi driver ojol tengah ada masa jaya hasil hingga rp jutabulan => bisnis\n",
      "minta masker lonjak tingkat kasus virus corona baru apotek toko habis stok masker ikut komentar kemenkes maskern via => bisnis,kesehatan\n",
      "ilmuwan china sebut trenggiling mungkin jadi hubung sebar virus corona trenggiling kenal hewan nokturnal makan semut => bisnis,kesehatan\n",
      "liputancom jakarta pt bank rakyat indonesia tbk bri gandeng aplikasi layan mesan tempat inap indohomestay menteri pariwisata kemenpar rangka rangka optimalisasi jasa layan homestay kembang sektor pariwisata tanah air evp retail payment bri arif wicaksono kata lalu kerja sama bri beri bagai program promosi tarik seluruh wisatawan ingin rasa layan homestay indonesia lalu aplikasi lndohomestay tutur promo beri bri bagi nasabah bri pegang kartu kredit debit alat bayar bri lain dapat diskon hingga persen mes homestay lalu indohomestay indohomestay transaksi kan online satusatunya bank terima bayar situ bri debit kredit epay bri virtual account promo diskon persen lama bulan bayar pakai apa alat bayar bri laku tunai ujar jakarta jumat bulan lanjut arif nasabah bri tetap dapat diskon besar persen transaksi mesan homestay lalu aplikasi bulan cara reguler ada diskon tiap transaksi diskon persen tahun tetapi kita sedang pikir diskon apa tarik kata ceo lndohomestay grandy prajayakti nyata lndohomestay koneksi dengan lebih homestay kamar seluruh pelosok lndonesia lalu kerja sama lanjut grandy tarik minat wisatawan inap homestay ada bagai destinasi wisata indonesia juga dampak tingkat kunjung wisatawan destinasi sebut indonesia punya tempattempat eksotik di desadesa ingin angkat ini untuk tarik wisatawan jelajah seluruh wilayah indonesia homestay yang tawar harga agam mulai rp ribu per malam hingga rp ribu makanya kami ingin wisatawan rasa itu tandas => bisnis\n",
      "liputancom jakarta anda sedang cuti libur masih pikir urus kerja kantor bukan aneh ingat buah studi temu butuh hari libur ratarata pegawai tenang pikir kerja kantor lansir laman studyfindsorg studi gelar apple vacations laku survei ribu pegawai amerika serikat survei sebut fokus tanya karyawan lupa urus kerja cuti libur hasil butuh hari situasi libur panjang benarbenar nikmat waktu libur hari biasa para pegawai mulai fokus bahagia sama keluarga samping urus kerja itu orang survei sebut aku sangat sulit keluar urus kerja sedang kerja bahkan lebih pilih kembali kantor meski waktu cuti habis lebih itu sekitar persen seluruh serta survei aku rasa salah tinggal kerja kantor fakta asa tesrebut buat banyak responden pilih libur bagi bahkan rasa cuti libur dampak negatif karier banyak persen serta survei kata cuti libur jadi hambat naik jabat kantor benarbenar tidak pikir kerja libur benarbenar asa sulit fasilitas wifi mana mereka bisa mudah hubung dengan kerja kantor terang vice president apple vacations sandy babin tak jarang karyawan iseng ecek urus kerja kala tengah hari libur sebut justru jadi salah satu faktor utama banyak karyawan tidak dapat nikmat hak libur => bisnis\n",
      "orang wanita asal indonesia profesi asisten rumah tangga singapura positif papar virus corona jenis baru ncov => kesehatan\n",
      "korban virus corona terus tambah data john hopkins university hingga kini tinggal orang hasil sembuh => kesehatan\n",
      "dana pensiun jadi sumber hasil utama idam andal banyak orang sudah pasuk masa pensiun => bisnis\n",
      "buah riset harvard university tengah jadi bincang riset kira harus ada beberapa kasus virus corona indonesia viruscorona harvarduniversity via => bisnis,kesehatan\n",
      "liputancom jakarta amat ekonomi faisal basri harap dua kandidat calon presiden capres fokus realisasi proyek bangun masuk rencana bangun jangka tengah nasional rpjmn telah susun bappenas ini bangun laku tahun depan jadi arah dua capres jangan keluar programprogram bangun bombastis adu debat kampanye program bangun muncul tibatiba sesuai rpjmn justru banyak tidak jalan baik harus proyek bangun sesuai apa telah susun tertib bappenas hasil bagus ujar di jakarta kamis contoh proyek prestisius ingin bangun perintah benar masuk rencana belum kereta cepat jakartabandung ini proyek sebut tunjuk kembang sebab lanjut faisal dua kandidat capres adu program infrastruktur muncul tibatiba lebih baik tawar program bangun memang masuk rpjmn sudah kaji layak janji kampanye masuk rpjmn jadi acu tandas dia => bisnis\n",
      "korban virus corona terus tambah china akhir tuju pakar sehat as bantu => kesehatan\n",
      "liputancom jakarta pt bursa efek indonesia bei terus optimal bagai upaya kerja sama khusus tingkat jumlah investor saham baik investor ritel institusi pasar modal direktur kembang bei hasan fawzi tutur pihak kini kerja sama asosiasi dana pensiun indonesia adpi genjot jumlah investor besar persen total dana kelola dana pensiun dapen alokasi instrumen saham ada kerja sama bei asosiasi dana pensiun kemarin juga jalin mou kelola reksa dana jadi akan sasar caloncalon investor institusi baik instrumen saham maupun lain utama misal reksa dana imbuh jakarta jumat jelas tuju kerja sama adpi guna beri paham baik industri pasar modal utama penting investasi bursa saham lama kata libat adpi bilang minim investor institusi sasar investor domestik ritel juga sama institusi potensial investor dekat diri jadi paham urus bina milik dana pensiun biar jadi investor tidak paham juga laku rangkai giat sosialisasi ujar itu porsi alokasi dana pensiun dapen pasar modal baru capai persen yang target capai persen pihak aku komitmen penuh untuk dongkrak jumlah investor saham ikan paham kalau raisingnya tahun ini harus angka minimal persen alokasi sekarang baru persen ujar => bisnis\n",
      "liputancom jakarta perintah nilai perlu laku evaluasi seluruh infrastruktur bangun lama pasal bangun infrastruktur korelasi naik investasi khusus tanam modal asing pma direktur eksekutif institute for development of economics and finance indef enny sri hartati kata lihat infrastruktur bangun beri dampak ekonomi lihat dampak bisnis investasi meski empat tahun akhir perintah sangat gencar bangun infrastruktur lanjut sayang justru dampak sektor bisnis investasi belum signifikan tahun minimal lihat tendensi bisnis naik investasi sampai pma justru minus pmdn tanam modal negeri memang baik cenderung stagnan ujar di jakarta rabu padahal tahun lalu lanjut investasi asing justru tengah deras masuk kawasan asia hal justru rasa indonesia padahal tahun lalu arus investasi asia besar akibat perang dagang china amerika kok indonesia malah negatif ungkap sebab lanjut enny perintah harus laku evaluasi infrastruktur bangun tepat sasar perintah harus laku evaluasi regulasiregulasi masih hambat sektor usaha harus evaluasi kalau tepat itu bisa langsung dampak investasi panjang bijak rencana matang libat dunia usaha subjek bangun infrastruktur tandas => bisnis\n",
      "liputancom jakarta direktur jenderal dirjen cipta karya menteri kerja umum rumah rakyat pupr dan h sumadilaga sampai dukung terap kantong plastik gratis kptg banding biar cecer jadi limbah kata menteri pupr inisiatif olah kantong plastik bahan campur aspal sangat dukung kalau dulu di balitbang menteri pupr proses kantong plastik cacah campur aspal kuat campur aspal istilah aspal plastik jelas di jakarta jumat tahu beberapa toko ritel modern gabung asosiasi usaha ritel aprindo nyata terap bijak kantong plastik bayar mulai jumat maret dan lanjut kantong plastik tetap golong benda tak aman lingkung kalau klasifikasi barang tak aman lingkung ember botol mineral plastik kresek nomor sebut karena imbau masyarakat lebih pilih bawa tenteng sendiri goodybag belanja beli kantong plastik masalah bukan bayar tidak utama tingkat sadar masyarakat bagaiman kurang sampah plastik bayar kan jadi mikir kali bawa goodybag apa lah pungkas => bisnis\n",
      "liputancom jakarta menteri negeri kemendagri harap beri tindak perintah daerah lahir atur daerah perda tidak pro investasi tentang atur atas tindak tegas dapat upa surat ingat atau tegur serta terus evaluasi perdaperda masalah sebut ungkap wakil ketua komisi ii ahmad riza patria kutip rabu kemendagri kata selaku bina kepala daerah milik wenang kait tekan tentang milik konsekuensi dampak ekonomi daerah sebut kemendagri milik peran kemendagri perintah pusat harus mampu atur perintah daerah kata riza saat ini lanjut banyak perda tidak pro investasi tentang atur atas walaupun ribu perda lebur revisi hapus anggota fraksi gerindra ini juga jelas perintah pusat memang perlu harga bijak lokal milik tiap daerah bukan arti pemda terus bentuk perda baru timbul tentang evaluasi tindak kemendagri juga perlu sosialisasi terus terus ujar salah satu perda nilai tentang investasi perda kawasan rokok ktr telah laku perintah kota bogor nilai ada tentang produsen rokok distributor dukung semua yang buat iklim usaha investasi jadi sehat kata riza => bisnis\n",
      "ganas virus corona terus tel korban jiwa jauh sudah orang tinggal china akibat virus novel coronavirus sebut begini kembang viruscorona coronavirus => kesehatan\n",
      "pria tinggal akibat virus corona hong kong belum sempat tunjuk kondisi stabil => kesehatan\n",
      "liputancom jakarta capres nomor prabowo subianto nyata milik utang sama sekali lihat lihat lapor harta kaya selenggara negara lhkpn lapor komisi berantas korupsi kpk lhkpn prabowo agustus ungkap total harta kaya capai rp triliun jumlah sebut tingkat lhkpn capai rp triliun bagi bawah lhkpn selalu catat jumlah utang milik utang prabowo catat nol arti prabowo hasil lunas utang besar rp juta usd ribu catat milik lhkpn tahun informasi kena besar utang prabowo jokowi jadi artikel paling cari baca lengkap ikut berita populer kanal bisnis liputancom prabowo tak punya utang daftar kaya jokowi total harta kaya prabowo capai rp triliun bila intip aset tanah bangun prabowo mayoritas ia milik ada bogor tanah prabowo paling mahal lokasi jakarta selatan nilai rp miliar utang prabowo daftar kaya tercatatl nol sandiaga uno catat punya utang rp miliar kaya lebih tinggi prabowo rp triliun lalu bagaimana utang jokowi maruf amin lengkap baca sini => bisnis\n",
      "liputancom jakarta hampir lama satu bulan harga tomat naik harga tomat perlahan mulai turun pasar pondok gede bekas turun ini jadi beberapa hari jelang raya imlek tahun baru china ini benar para dagang mulki salah satu dagang sayur pasar pondok gede kata belum harga tomat sempat capai angka rp ribu per kilogram kg tomat udah mulai turun sejak empat hari lalu sekarang jadi rp ribu per kg ujar liputancom pasar pondok gede senin sama ungkap dagang lain tomat jadi rp ribu per kg jelas johan juga rupa dagang sayur yang temu liputancom pasar sebut hanya tomat johan tambah ini harga cabai merah keriting bawang merah turun cenderung stabil rp ribu per kg cabai sama bawang udah murah ungkap => bisnis\n",
      "liputancom jakarta menteri kerja umum rumah rakyat pupr basuki hadimuljono kumpul beberapa badan usaha jalan tol bujt pt jasa marga tbk pt waskita karya tbk beberapa lain langkah laku bahas perihal keluh mahal tarif tol trans jawa iya informasi mahal tarif sekarang sedang coba diskusi kan banyak sekali bujtnya jasa marga astra waskita sumber mitra jaya lainlain saya kumpul dulu diskusi ungkap gedung menteri pupr jakarta senin menteri pupr diskusi isu mahal tarif tol trans jawa sebut lebih opsi belum tahu masih ingin diskusi ujar pun jelas menteri pupr bujt akan atur jadwal timbang sekaligus cari solusi atas keluh mahal tarif tol trans jawa jadi belakang kapan kumpul saya sedang minta bujt buat jadwal jelas belum vice president corporate finance pt jasa marga tbk eka setya adrianto kata tarif saat laku rupa sepakat sejak awal waktu hitung tarif dasar tender kata eka sebut pasuk jalan tol rupa pilih jika tarif rasa terlalu mahal ambil pilih lalu jalan arteri non tol kalau rasa mahal lewat luar kalau rasa advantage lewat ujar => bisnis\n",
      "meski cepat mudah sekali tular angka mati infeksi virus corona ncov bilang kecil ikut jelas viruscorona via => kesehatan\n",
      "liputancom jakarta puluh ribu pegawai pt pos indonesia terima gaji februari tengara akibat aksi unjuk rasa serikat kerja pos indonesia kena sejahtera senin sebut tuang surat edar duga keluar direksi pt pos indonesia nomor dirut ditandatangani direktur utama gilarsi w setijono tanggal februari surat edar sebut isi pemberitahuan tunda gaji biasa laku tanggal susul pt pos indonesia harus hitung ulang cashflow tunda gaji sebut sebut hingga batas waktu tentu orang karyawan pt pos indonesia enggan sebut kata karyawan terima gaji per tanggal bulan kata masalah uang akibat aksi demonstrasi kemarin senin januari mitra akan pinjam uang jadi gagal ungkap ayobandungcom jumat aku tidak percaya alas sebut bayar gaji pegawai bukan asal pinjam pinjam mitra kan untuk kembang usaha bukan bayar gaji ujar sayang tunda gaji pegawai pihak direksi pt pos indonesia tidak adil sangat sayang pt pos indonesia diri ratus tahun lama belum pernah gaji undur ini kata => bisnis\n",
      "otoritas malaysia konfirmasi satu warga tidak pernah unjung china nyata positif virus corona => kesehatan\n",
      "liputancom jakarta tiga operator stasiun isi bahan bakar umum spbu pt pertamina persero pt total oil indonesia pt shell indonesia kompak turun harga bahan bakar minyak bbm total shell turun harga bbm sabtu februari pertamina baru turun harga beberapa produk bbm pertamax turbo pertamax dexlite dex wilayah jawa madura bal minggu februari pukul bijak susul tren turun harga minyak mentah dunia kuat rupiah dolar amerika serikat as pertamina perhati daya beli masyarakat besar sesuai harga bbm variasi hingga rp per liter direktur pasar retail pt pertamina persero masud khamid tutur sesuai tentu perintah badan usaha hilir migas pertamina tunduk mekanisme tentu harga timbang faktor utama harga minyak mentah nilai tukar rupiah komponen utama tentu harga sifat fluktuatif kami terus laku evaluasi harga bbm kata masud khamid wilayah jakarta harga pertamax turbo turun rp jadi rp per liter pertamax turun rp jadi rp per liter dexlite turun rp jadi rp per liter harga dex turun rp jadi rp per liter pertalite tetap rp per liter => bisnis\n",
      "perintah larang ada impor hewan hidup china lantar duga tular virus corona masuk indonesia => bisnis,kesehatan\n",
      "liputancom jakarta pt pertamina persero jamin pasok bahan bakar minyak bbm seluruh lembaga salur bbm satu harga sebar wilayah tinggal depan luar t usaha telah salur bbm satu harga banyak kilo liter kl wilayah malu papua unit manager communication relation and csr pertamina mor viii brasto galih nugroho kata kl bbm satu harga sebut upa premium kl solar kl bbm salur lalu seluruh lembaga salur bbm satu harga telah hasil diri pertamina periode wilayah pertamina mor viii malu hingga papua pertamina dapat tugas buka aksesibiltas sedia sedia energi lanjut kata brasto jakarta sabtu pertamina terus komitmen salur bbm wilayah t sabang merauke dari miangas hingga pulau rote lalu bagai moda transportasi darat sungai maupun laut bahkan khusus wilayah sulit jangkau pertamina siap pesawat khusus angkut bbm jenis atr kapasitas liter bbm satu harga rupa komitmen pertamina sedia energi adil seluruh masyarakat indonesia utama daerah t sesuai amanat uu utama uu migas no tahun uu energi no tahun tutur => bisnis\n",
      "bill gates memang sungguh dermawan lalu yayasan bill melinda gates foundation sumbang dana luar biasa besar bantu tangkal wabah virus corona billgates viruscorona via => bisnis,kesehatan\n"
     ]
    },
    {
     "name": "stdout",
     "output_type": "stream",
     "text": [
      "liputancom jakarta lembaga lidi ekonomi masyarakat universitas indonesia lpem ui turut komentar kait jumlah utang perintah meski tingkat cepat empat tahun akhir utang perintah nilai kendali ungkap seri analisis makroekonomi indonesia economic outlook terima merdekacom selasa bagi besar utang ada mata uang domestik kuartaliii utang mata uang asing capai rp triliun utang mata uang rupiah capai rp triliun tara persen total utang demikian banding tahun porsi utang mata uang asing alami sedikit turun persen jadi persen kata kepala riset lpem feui febrio kacaribu walaupun rupiah depresiasi persen sejak akhir proporsi utang mata uang asing cukup stabil sangat kesan jelas utang indonesia kelola tahan lebih baik fluktuasi mata uang tanda ada disiplin kuat memitigasi risiko nilai tukar mampu kurang rentan guncang eksternal kait utang luar negeri aspek dua dianalisa lpem ui banding beri pinjam domestik asing perintah indonesia lebih gantung kreditor eksternal banding kreditor domestik sebut cukup menguatirkan ingat utang perintah indonesia ada bentuk rupiah sekitar rp triliun antara milik asing alir modal portofolio tibatiba alami goncangan timbul ancam serius nilai tukar contoh periode jelas jalan sebut kita banding apa jadi tahun rasio kreditor asing utang perintah indonesia kurang lebih konstan samping perintah hasil turun rasio persen jadi persen lanjut aspek tiga kait rasio nilai utang pdb meski lihat makin tinggi lama lima tahun akhir rasio utang pdb indonesia jauh lebih rendah banding tahun lalu perlu catat bagi besar tambah utang perintah indonesia guna investasi produktif utama proyek infrastruktur dorong alir pdb masa depan utang guna konsumsi misal guna biaya subsidi sektor energi karena tingkat rasio utang pdb jadi benar perlu khawatir lebih lihat tiga tahun akhir meski biaya proyek infrastruktur keluar lebih besar perintah indonesia hasil signifikan lambat tingkat rasio utang tahan rasio sebut ada bawah persen sisi rasio utang pdb indonesia relatif jauh lebih rendah banding negaranegara kembang lain thailand persen malaysia persen vietnam persen brasil persen aspek empat kena cenderung perintah indonesia tambah pinjam jangka panjang banding jangka pendek aspek ini sangat penting kelola utang hampir semua utang perintah indonesia rupa utang jatuh tempo jangka panjang jauh lebih tinggi banding utang jatuh tempo jangka pendek pinjam perintah tepat laku potensi tingkat tumbuh pdb cukup janji utang produktif stimulus tumbuh ekonomi lalu bangun infrastruktur maupun sumber daya manusia target karena itu pinjam kelola baik dapat hasil tumbuh jangka panjang lanjut jalan tingkat standar hidup hasil lalu tingkat produktivitas beban utang kelola hal ini kami lihat komposisi utang perintah indonesia ini cukup aman ujar dia sisi positif perintah telah tunjuk komitmen tahan utang tingkat dominasi utang jangka panjang enam tahun akhir data akhir pada kuartaliii tunjuk total utang perintah besar rp triliun tumbuh besar persen yoy jalan butuh biaya bangun infrastruktur giat produktif lain cara khusus dasar waktu jatuh tempo utang indonesia dominasi utang jangka panjang sekitar rp triliun persen total utang perintah tumbuh besar persen yoy utang jangka pendek capai rp triliun persen total utang turun besar persen tahun belum yoy hal ini tunjuk beban bayar utang dalam anggar perintah turun sama tingkat utang jangka tengah panjang bayar utang akan sedikit beban anggar tahun datang ungkap febrio => bisnis\n",
      "orang wni positif tular virus corona singapura perintah ketat pintu keluarmasuk indonesia singapura viruscorona singapura => kesehatan\n",
      "revolusi industri industri jadi bahan bincang khusus pasca debat calon presiden capres dua langsung minggu februari jumlah pihak khusus kubu dukung capres nomor urut joko widodo jokowi sebut capres nomor urut prabowo subianto paham soal industri lantas apa benar industri menteri industri airlangga hartarto jabar kembang industri dunia kata tahap revolusi industri mulai pertama hingga milik tantang dampak beda revolusi industri abad kata tanda temu mesin uap upaya tingkat produktivitas nila tambah tinggi misal inggris usaha tenun guna mesin uap hasil produk tekstil indonesia guna alat tenun bukan mesin atbm usaha rokok kretek guna mesin linting tangan jadi semua guna teknologi sifat padat karya perintah punya pihak lindung teknologi sebut utama serap tenaga kerja ujar airlangga terang beberapa waktu lalu senin revolusi industri era an tanda temu tenaga listrik fase beberapa industri indonesia alami tumbuh cukup signfikan sektor agro tambang jadi revolusi dua kait teknologi lini produksi lanjut kemudian era revolusi industri otomatisasi laku atau an hingga bagi jalan jadi saat pasuk revolusi industri tiga memang serap tenaga kerja masingmasing industri beda beda ada kelompok industri labour intensive ungkap airlangga revolusi industri menperin sampai efisiensi mesin manusia mulai terkonektivitas internet of things hari ini kita bicara otomatisasi bas data internet ini laku era industri kalau di manufaktur produsen konsumen pisah saat ini mungkin ada cocreation beli produsen dapat tumbuh mikromanufaktur jelas airlangga nyata beda terap industri industri faktor gerak industri gerak profit lebih dorong harga biaya beda industri value chainnya banyak produkproduk dari cost itu tentu ujung value added supply chain tutur di samping itu hasil studi laku boston consulting group industri telah telah terap industri di jerman tunjuk minta tenaga kerja tingkat signifikan segmen rd kembang software hingga persen kemudian muncul minta jenis kerja baru kompatibel system industri di antara profesi industrial data scientist banyak ungkap proyeksi beberapa kerja baru kait kembang internet of things professional triber cloud architect industrial network engineer machine learning scientist platform developer virtual reality design remote health care robotics specialist cyber security analyst menperin kata salah satu dorong hasil upaya implementasi industri inovasi hasil saat ini tingkat inovasi indonesia masih ada level persen agar unggul saing butuh tingkat inovasi persen ini tingkat cara kuat peran guru tinggi dari sana harap cipta inovasi dorong efektivitas industri tutur airlangga faktor inovasi jadi penting rangka maksimal nilai tambah tiap tahap rantai industrilangkah lain penting upaya produktivitas kerja ini benah tingkat program didik vokasi industri akan buat kontribusi manufaktur akan capai persen pada sumbang tingkat tumbuh hingga persen tandas kepala badan teliti kembang industri bppi kemenperin ngakan timur kata upaya pasuk industri perintah aktif tarik investasi baru dorong industri ekspansi jauh ini memang ada kaji investasi yang butuh hadap industri dengan urai sektorsektor industri mana yang unggul investasi jadi agenda semua pihak kejar daya saing tingkat ekspor papar dasar peta jalan making indonesia dapat lima sektor industri yang akan jadi dorong contoh dalam terap industri lima sektor sebut industri makan minum kimia tekstil elektronik otomotif => bisnis\n",
      "liputancom jakarta menteri uang menkeu sri mulyani indrawati minta seluruh aparatur desa kelola anggar dana desa baik sampai jadi bicara rapat koordinasi nasional rakornas perintah desa tahun gelar ecovention ocean park jakarta kata kelola dana desa baik akan tingkat kondisi ekonomi masyarakat desa masyarakat tadi hasil rendah tingkat jadi tengah bapakbapak ibuibu pimpin desa mampu guna anggar desa baik jumlah masyarakat masuk kelas tengah akan capai persen kata sri mulyani jakarta rabu baik kelola anggar produktivitas masyarakat harap makin tingkat bahkan struktur ekonomi tingkat desa akan ubah itu arti akan milik ekonomi yang dukung masyarakat makin makmur daya tarik ekonomi makin besar jelas mantan direktur laksana bank dunia tambah semangat baik kelola uang harap depan seluruh desadesa dapat tara kota kecil seluruh ekonomi selang lebih tingkat kondisi belum apabila desa semangat baik semangat baik masa desa akan ubah giat ekonomi dia desa kembang jadi kota kecil adalah suatu pikir untuk semangat sekaligus kompas jalan tugas negara pungkas dia reporter dwi aditya putra sumber merdekacom => bisnis\n",
      "kepala staf presiden moeldoko wawancara kly jakarta rabu wawancara sebut moeldoko papar kerja kerja perintah jokowijk hingga ini liputancomangga yuniar presiden ri joko widodo masa perintah memang fokus bangun infrastruktur ini rupa dasar indonesia jadi negara lebih maju depan belakang banyak pihak kritisi bangun infrastruktur laku perintah ini kurang asa manfaat ini langsung jelas kepala staf presiden moeldoko halhal yg perlu lurus paham bagai pihak banyak pandang sementara saya pas infrastruktur padahal beberapa daerah sampai bapak jokowi bapak infrastruktur indonesia sedikit orang kritisi pembangin infrastruktur cerita moeldoko jakarta jumat juga tegas alami beda signifikan hal bangun infrastruktur lama pimpin presiden jokowi utama hal perata bangun kalau presiden pak jokowi bangun orientasi capai voters cari suara pak jokowi cukup bangun infrastruktur jawa perlu bangun luar populasi jawa lebih besar masa iya kepala negara pikir tegas lama hampir lima tahun pimpin memang bangun infrastruktur paling boomingadalah jalan tol padahal ada beberapa bangun lain labuh bandara jalan nasional semua itu laku justru paling banyak daerahdaerah pencil begitu harap ekonomi daerahdaerah pencil sebut bisa tumbuh lebih cepat melaluo hal ini misi indonesia jadi megara maju cepat wujud => bisnis\n",
      "wabah virus corona buat masker lindung makin cari jenis masker n bahkan hilang pasar kalaupun harga gilagilaan maskern via => bisnis,kesehatan\n",
      "target sebut jauh lebih tinggi banding realisasi dapat besar miliar dollar as tara rp triliun => bisnis\n",
      "perintah buka keran impor sebut bawang putih nilai tak bawa virus corona begini faktafaktanya bawangputih via => bisnis,kesehatan\n",
      "liputancom jakarta duta besar rusia indonesia lyudmila georgievna vorobieva minta mayora group tanam investasi rusia salah satu bangun pabrik negeri beruang merah sebut lyudmila kata lama produk milik mayora khusus torabika cappucino cukup kenal rusia sebab mayora perlu tingkat penetrasi pasar rusia bangun pabrik harap mayora bangun pabrik rusia ujar kantor mayora group jakarta rabu lyudmila bangun pabrik rusia produkproduk mayora pasar rusia lain bisa luas pasar negaranegara tetangga rusia kawasan uni eropa beri sempat baik bukan hanya rusia juga luas pasar uni eropa lanjut itu presiden direktur mayora group andre atmadja kata pihak buka mungkin bangun pabrik rusia ingat produkproduknya dapat sambut cukup baik sana bukti lalu mayora catat ekspor produk rusia banyak kontainer sekitar usd juta deikian andre nilai pihak perlu tingkat pasar di rusia ingin bangun pabrik tuju skala ekonomi bangun pabrik sebut beri untung mayora mungkin setup pabrik di rusia kami hitung economic scale dulu meski kontainer masih hitung kecil mungkin kita setup pabrik bangun pabrik harus capai usd juta tandas => bisnis\n",
      "liputancom jakarta menteri hubung menhub budi karya sumadi harap ada terbang internasional lampung lalu bandara internasional radin inten ii lampung tingkat devisa negara capai sebut perintah daerah pemda gencar laku promosi wisata daerah masingmasing khusus daerah telah milik bandara internasional lampung imbau pemda mulai sekarang giat siap tujuantujuan wisata tarik wisatawan baik singapura malaysia negara asia lain ujar jakarta minggu bandara internasional radin inten ii lampung segera buka terbang internasional pertama wings air rute lampung bandar udara seletar singapura budi bandara internasional radin inten ii tarik banyak turis kunjung lampung lanjut depan lebih banyak rute internasional tuju lampung radin inten ii sudah tetap bandara internasional harap paling utama bagaimana lampung tarik turis luar jadi satu harus kalau turis ke dalam negeri kurang hanya ke luar negeri kurang devisa kita promosi jelas budi ungkap alam buka giat promosi wisata di silangit sumatera utara promosi laku cara kenal destinasi wisata daerah tempat makan beri diskon hotel turis promosi gencar laku turis makin tahu halhal tarik di lampung jelas untuk laku promosi sebut harus bantu menteri pariwisata kemenpar stakeholder kait kerja sendiri kita harus kampanye insentif enggak bisa kerja orang seperti pemda menteri pariwisata dan laku usaha destinasi wisata harus laku itu sehingga ini bisa jadi satu kombinasi yang akhir buat turis dari singapura minimal itu mudah cari informasi juga dapat suatu output yang bagus jelas dia => bisnis\n",
      "waduh langka masker akibat heboh virus corona rasa apotek ada kawasan jakarta harga masker apotek mulai tingkat maskern via => bisnis,kesehatan\n",
      "liputancom jakarta asosiasi dagang global the mobile marketing association mma indonesia bahas mobile outlook trends salah satu bahas ialah kait tren digital industri media indonesia sempat hadir bagai ceo media ceo cofounder kly steve christian ceo kg media andy budiman direksi mma indonesia program director mma asia pacific azalea aina sebut belanja digital bagai media mainstrem indonesia catat naik iring kembang teknologi tutur belanja digital panjang catat capai rp triliun naik rp triliun periode sama tahun belum dasar data nielsen uang belanja iklan indonesia digital rp triliun sekarang jadi rp triliun data ukur dasar website indonesia ujar jakarta kamis tambah konsumsi digital masyarakat indonesia catat makin tinggi ikut konsumsi video digital makin gari konsumsi video makin tinggi tumbuh utama vertikal video persen internet user indonesia akses android ujar saran usaha agens adaptif layan populasi guna seluler besar di indonesia lalu inovasi usaha manfaat jangkau luas pasar tingkat tingkat libat konsumen => bisnis\n",
      "perintah singapura umum naik status wabah virus corona jadi satu tingkat darurat internasional => kesehatan\n",
      "orang warga as tinggal kota wuhan china akibat virus corona jadi mati warga asing pertama konfirmasi china akibat corona => kesehatan\n",
      "china aju hak paten obat remdesivir antivirus virus corona wuhan apa remdesivir jelas via => kesehatan\n",
      "liputancom jakarta pt pos indonesia janji segera bayar gaji karyawannya senin februari sempat tunda kait gaji karyawan sempat tunda bagai segala upaya direksi jamin usaha segera bayar gaji tanggal februari tutur sekretaris usaha benny otoyo jakarta terang resmi minggu juga ingat karyawan semua serikat kerja selalu saling laku kerja sama jaga harmonisasnya hubung industrial jaga nama baik usaha mata publik stakeholders laku tindakantindakan positif tingkat maju usaha segala sangkut masalah internal usaha hendak semua jajar perusahaanserikat kerja saling hormat selesai baik lalu mekanisme telah pakat sama perlu laku halhal kontra produktif ujar benny pos indonesia terus maksimal mungkin beri layan baik masyarakat pihak komitmen beri layan langgan tetap jalan baik sesuai harap langgan transformasi usaha fokus baik layan para langgan dapat beri user experience lebih baik sedang laksana ikut ubah landscape industri kurir logistik jasa uang iring cepat ubah teknologi regulasi kompetisi makin tajam kata sekretaris usaha sebut dia juga kata program strategi laku maju usaha mutlak dukung sepenuh semua pihak dalam usaha masuk serikat kerja bila usaha harap terus apa masalah internal yang jadi usaha hendak jadi wajib semua pihak untuk temu solusi baik kondusif tutur benny reporter idris rusadi putra sumber merdekacom => bisnis\n"
     ]
    },
    {
     "name": "stdout",
     "output_type": "stream",
     "text": [
      "liputancom jakarta masyarakat saksi langsung ajang balap motor paling gengsi dunia motogp lantar tahun sebut indonesia jadi salah satu tuan rumah motogp laksana sirkuit mandalika nusa tenggara barat ntb direktur utama pt kembang pariwisata indonesia abdulbar m mansoer kata pihak teken kontrak dorna selenggara motogp dorna beri sempat indonesia jadi tuan rumah motogp mulai tandatangan kontrak januari dorna saing brasil akhir yang siap venue bangun sirkuit ujar jakarta selasa abdulbar ungkap bangun sirkuit mandalika pihak gandeng usaha asal prancis vinci contruction grands projects itu itdc telah dapat dana asi infrastructure investment bank aiib dana dapat jadi bangun motogp balap motor besar dunia tonton juta indonesia nomor china tonton bangun vinci bangun awal kalau di negara tidak kata abdulbar optimistis bangun sirkuit panjang kilometer km sebut rampung bisa tarik wisatawan saksi motogp di mandalika kita punya waktu tahun harap selesai panjang km keliling bukit pantai ujar => bisnis\n",
      "liputancom jakarta direktur jenderal bendahara menteri uang marwanto harjowiryono kata proses bentuk badan kelola dana lingkung hidup bpdlh inisiasi menteri lingkung hidup hutan klhk segera bentuk atur menteri uang pmk kena bpdlh sendiri sedang tahap final sekarang level menteri tahap final sekretariat negara kemenkumham mudahmudahan waktu dekat selesai kata saat temu kantornyta jakarta selasa belum menteri lingkung hidup hutan klhk bentuk badan baru khusus urus masalah lingkung selesai hutan lingkung indonesia badan sebut nama badan kelola dana lingkung hidup bpdlh sekretaris jenderal klhk bambang hendroyono kata bpdlh nanti hanya diri klhk juga libat beberapa menteri lembaga lain kait badan juga libat pihak asing beri sunti dana bpdlh atur atur bagaimana uang perintah bisa dukung donordonor satu pintu tidak cecer segera masuk dukung luar negeri negara respons pro kita selesai masalah lingkung hidup kata bambang dalam buah acara diskusi kantor staf presiden jakarta bambang ungkap lama atas selesai segala macam masalah kait lingkung hidup khusus hutanhutan luar konsensi area industri cecer di bagai menteri ada bpdlh harap segala jenis soal mulai dana hingga bijak ambil jadi lebih relevan jadi satu pintu antar menteri lembaga itu dana untuk benah lingkung hutan asal lama selalu andal anggar dapat belanja negara apbn dana badan layan umum blu memang ada dengan ada bpdlh sumber dana nanti harap akan lebih agam tidak akan beban dompet negara reporter dwi aditya putra sumber merdekacom => bisnis\n",
      "liputancom jakarta landas pacu runway bandara internasional supadio pontianak panjang bisa layan terbang pesawat badan lebar widebody proyek panjang runway x meter jadi x meter mulai tahun tuntas tahun datang presiden direktur pt angkasa pura ii ap ii muhammad awaluddin kata dimensi runway lebih panjang bandara internasional supadio makin mudah layan warga kalimantan barat khusus pontianak laksana ibadah haji umroh lama tidak terbang langsung pontianak arab saudi memang fasilitas bandara khusus runway mampu mengakomodir kami harap proyek panjang runway tuntas segera buka terbang ibadah umroh haji ujar jumat adapun investasi siap angkasa pura ii proyek panjang runway capai rp miliar runway panjang bandara internasional supadio mengakomodir terbang pesawat widebody airbus a yang kelas iring itu nanti bandara internasional supadio layan terbang langsung ibadah umroh dan haji adapun tahun lalu calon haji pontianak masuk embarkasi batam => bisnis\n",
      "garuda indonesia mampu tingkat hasil rute internasional bawah pimpin baru => bisnis\n",
      "liputancom osaka tinjau seluruh janji kerjasama ekonomi indonesiajepang ijepa target rampung temu g langsung osaka jepang juni tahun janji harap mampu tingkat surplus dagang indonesia negeri sakura sebut duta besar indonesia jepang federasi mikronesia arifin tasrif kata janji ijepa langsung sejak kemudian janji kerjasama sebut tinjau sejak tingkat ekspor sedang upaya ijepa sudah beberapa item alot runding tinju seluruh ujar osaka jepang minggu demikian sepakat kait tinjau kerjasama dagang harap rampung temu g juni datang demikian indonesia lebih dapat longgar laku ekspor negeri sakura sebut jepang harap selesai jelang g kepala negara anggota g meeting harap pakat kata ijepa lanjut arifin harap ekspor indonesia terus tingkat banyak negara laku janji rupa jepang alami tingkat ekspor besar jepang negara sudah banyak yang sepakat ada ringan pajak kalau itu pakat lebih banyak komoditas indonesia di sektor agrikultur ikan banyak masuk sini jepang ungkap itu dengan ijepa harap suplus dagang indonesia jepang kembali tingkat ini dagang indonesia masih surplus usd juta atas jepang indonesia selalu suplus tahun lalu turun commodity price tahun lalu wakeup dengan ijepa suplus naik bisa tandas => bisnis\n",
      "liputancom jakarta bank indonesia bi ada bi netifest acara rupa ajang apresiasi kreativitas generasi milenial buat video tulis blog maupun foto deputi gubernur senior bank indonesia mirza adityaswara tutur tema lomba angkat tentang ekonomi digital sekarang kembang digital ekonomi sekarang mau transaksi lewat platform mau pariwisata lewat platform mau jual beli lewat platform kata museum bank indonesia jakarta jumat tak itu ajang kali ada pamer kait ragam jenis kopi bagai wilayah indonesia pilih sebut berangkat sadar kopi sudah jadi bagi gaya hidup masyarakat masuk generasi milenial tak itu kopi juga tahu komoditas milik nilai ekonomis kopi lifestyle giat pariwisata insya allah jadi tanam ekspor kata di museum bank indonesia jakarta jumat keanekaragaman kopi di indonesia kata dia rupa potensi besar ekonomi masyarakat kopi dorong komoditas cukup janji buka peluang bisnis kemudian sumbang ekonomi indonesia banyak giat bisa tingkat produksi suplai tingkat ekspor tingkat pariwisata tingkat ungkap reporter wilfridus setu embu sumber merdekacom => bisnis\n",
      "virus corona china hingga ini infeksi orang orang tinggal dunia sedikit orang tinggal per hari => kesehatan\n",
      "jumlah korban tinggal akibat virus corona capai orang seluruh dunia jumlah lebih kasus mati akibat sars belum => kesehatan\n",
      "liputancom jakarta perintah beri mudah dua komoditas ekspor indonesia minyak sawit mentah crude palm oilcpo gas ekspor lalu jalur pipa mudah sebut upa hapus wajib lapor surveyor ls direktur jenderal bea cukai menteri uang kemenkeu heru pambudi kata bijak sebut tahap final demikian perintah mulai laku sosialisasi para mang penting jumat maret iya proses final tentu koordinasi perintah besok sosialisasi undang semua stakeholders bisnis cpo ujar dalam seminar dagang nasional di jakarta kamis tutur hapus wajib ls harap ekspor cpo gas indonesia jadi lebih kompetitif ada efisiensi waktu ada bijak jelas tadi inspeksi laku dua agens surveyor bea cukai jadi single inspection dua efisiensi waktu harap tingkat competitiveness usaha proses lebih pendek lebih cepat kata heru target bijak ini paling lambat terbit awal maret demikian segera bangkit ekspor indonesia target masih di akhir februari awal maret itu cpo gas ekspor lalu pipa kata => bisnis\n",
      "liputancom jakarta perintah lalu menteri hubung tengah godok regulasi kait ojek online ojol tarif jadi salah satu isu atur regulasi sebut rencana perintah naik tarif ojek prediksi banyak milik dampak negatif ketimbang positif dasar survei laku research institute of socioeconomic development rised minta konsumen turun drastis turun dapat kemudi ojol bahkan tingkat frekuensi masyarakat guna kendara pribadi aktivitas seharihari dapat tambah macet ketua tim teliti rised rumayya batubara kata konsumen sangat sensitif segala mungkin tingkat tarif ini lihat hasil survei naik tarif ojek online potensi turun minta konsumen hingga persen kata rumayya batubara acara luncur hasil survei kawasan gondangdia jakarta pusat senin survei responden konsumen ojol sebar provinsi sebut lihat hasil persen nyata tarif ojek online ini sesuai bahkan persen responden lain aku tarif ojol ini mahal sangat mahal ujar memang naik banyak persen responden mau keluar biaya tambah kurang rp per hari ada banyak persen responden tidak keluar biaya tambah sama sekali ujar ungkap survei sebut juga catat jarak tempuh ratarata konsumen km per hari jarak tempuh jauh apabila jadi naik tarif rp km jadi rp km besar rp km keluar konsumen akan tambah besar rp ohari tambah keluar besar itu akan tolak kelompok konsumen tidak mau keluar biaya tambah sama sekali yang ingin keluar biaya tambah kurang rp hari total persentase capai persen ujar reporter yayu agustini rahayu sumber merdekacom => bisnis\n",
      "balita asal china dua orangtuanya sempat isolasi rsud kandou manado nyata negatif virus corona => kesehatan\n",
      "liputancom jakarta pt pln persero anggar belanja modal capital expenditurecapex besar rp triliun rencana dana guna investasi infrastruktur listrik direktur uang pln sarwono sudarto kata anggar belanja rp triliun pln akan guna bangun bangkit transmisi gardu induk baca bangun infrastruktur investasi kata sarwono jakarta rabu sarwono sumber dana sebut asal internal usaha sumber dana eksternal bisa sebut instrumen dana akan guna dana bagi luar perusahaann paruh dari pinjam global bond sukuk tutur sarwono tungkap laku sumber dana eksternal usaha tunggu momentum baik kalau harga bagus pas butuh klau ngak butuh tunda contoh kemarin tahun lalu rencana mei jadi september jelas dia tegas anggar sebut akan guna tutup utang kata begini bangkit porsi paling besar kemudian transmisi gardu tandas => bisnis\n",
      "heboh virus corona buat perintah laku larang impor china impor hewan hidup china bagaimana sayur buahbuahan => bisnis,kesehatan\n",
      "liputancom jakarta tarik ajar banyak budaya jurus antropologi sangat tepat pilih pasuk bangku kuliah budaya akan ajar kena perilaku interaksi hubung manusia kait fenomena jadi kurun waktu tentu ingat cakup bidang ajar cukup luas jadi sering ikut kembang budaya tidak tinggal informasi lalu bagaimana urus karier peluang kerja lulus antropologi sangat besar diri bidang kerja beranekaragam tarik ikut beberapa prospek kerja bisa pilih tamat kuliah jurus antropologi kutip cermaticom staf teliti kembang buah usaha lulus antropologi dapat jatah bidang teliti kembang tugas tak adalah teliti suatu data lalu analis data sebut dapat informasi detail informasi oleh guna bahan selesai suatu masalah gelar sarjana milik cukup jual kerja satu ingin jadi orang teliti handal naik jabat perlu tempuh kuliah jenjang magister lama beberapa tahun => bisnis\n",
      "polda kalimantan timur tangkap sangka sebar berita bohong hoaks kait virus corona => kesehatan\n",
      "liputancom jakarta menteri ketenagakerjaan menaker hanif dhakiri nyata program desa migrasi produktif desmigratif canang menteri ketenagakerjaan kemenaker tekan kirim tenaga kerja indonesia tki ilegal kerap laku calo lewat program calon tki dapat informasi lengkap putar pasar kerja tata cara kerja luar negeri bahkan kalau mau misal berangkat lewat pt mau nanya pt sudah cabut mana kadangkala orang enggak tahu kan kalau layan migrasi akses informasi jelas jakarta jumat aku upaya sebut butuh usaha lebih keras memang lebih jangka panjang rangka bantu kelola remitansi tki jelas kendati hanif nilai laksana program desmigratif jauh telah jalan baik tangan oknum calo lapang alhamdulillah lama sudah relatif jalan baik program desmigratif kan warga desa jadi punya tempat crosscheck informasi situ siap informasi pasar kerja kalau mekanisme kerja luar negeri seperti apa syaratsyaratnya bagaimana terus tutur lanjut program ini juga mampu topang lanjut hidup keluarga tki tinggal di kampung halaman misal tinggal pasang kalau istri pergi arti laki di rumah itu kasih latih kewirausahaan kasih bantu sarana prasarana usaha mereka cipta usaha produktif papar kemudian community parenting anakanaknya urus ada rumah edukatif jumlah bumn mensupport kita dan anakanak bisa habis waktu penting positif dia tambah => bisnis\n",
      "liputancom jakarta ribu kerja pt pos indonesia persero gabung serikat kerja pos indonesia kuat martabat sppikb hari nyata tuntut depan gedung menteri bumn polemik kerja pos indonesia tampak telinga menteri bumn rini soemarno kena kasus menteri bumn aku evaluasi kerja usaha soal pos tampung masuk evaluasi utama bisnis kerja usaha masuk depan kata deputi usaha tambang industri strategis media menteri bumn fajar harry sampurno bincang liputancom rabu harry jamin sampai hari soal gaji belum jadi bagi tuntut kerja pos indonesia bayar kalau soal kerja direksi kan memang jadi agenda tiap tahun ada kasus tetap evaluasi tegas ssbelumnya ribu pegawai pt pos indonesia persero gabung serikat kerja pos indonesia kuat martabat sppikb hari ada longmars kantor pos indonesia lapang banteng tuju gedung menteri bumn aksi laku minta menteri bumn rini soemarno evaluasi kerja jajar direksi selamat pos indonesia masalah hadap kita ada orang sedang laku orasi kita sedang jalan tuju kemeterian bumn kata salah satu koordinator sppikb wahab konfirmasi liputancom rabu ribu kerja ini jelas wahab asal pegawai pos indonesia jabodetabek kurang lebih orang di luar wilayah juga sekitar orang => bisnis\n",
      "liputancom jakarta menteri kerja umum rumah rakyat pupr gencar bangun infrastruktur rakyat kawasan selatan jawa kabupaten cilacap kejar tinggal kabupatenkota utara jawa menteri pupr basuki hadimuljono nyata infrastruktur rakyat rumah masyarakat hasil rendah mbr jembatan gantung program padat karya irigasi kecil tetap jadi program prioritas perintah samping bangun jalan jalan tol jembatan bentang panjang bendung bangun infrastruktur rakyat manfaat rasa langsung masyarakat salah satu bangun jembatan gantung masih banyak perlu ganti jembatanjembatan indiana jones kata lewat terang tulis selasa bangun infrastruktur rakyat cilacap menteri pupr lalu direktorat jenderal sumber daya air tahun laksana program cepat tingkat tata air irigasi ptgai kerja lalu skema padat karya tunai lalu program masyarakat gabung kumpul tani pakai air pa daya bangun jaring irigasi tersier panjang meter anggar besar rp juta untuk komponen biaya material bahan dapat komponen upah para tani laksana besar rp ribu per hari bangun jaring irigasi laksana lama hari mana ini capai progres fisik persen skema padat karya tunai harap jumlah uang edar di desa tingkat => bisnis\n",
      "liputancom jakarta budaya china sangat gantung percaya rezeki sial angkaangka kait dengan banyak orang rela keluar uang dapat nomor untung kendara nomor telepon lain bagai sematamata mereka percaya mitos cocok buah angka hidup empat ribu tahun lalu legenda kaisar yu lihat ekor kurakura gurat sempurna jumlah cangkang tepat tepi sungai luo gurat percaya jadi asal usul kotak luo shu buah alat hitung china kala itu karena china kenal angka dasar di angka sebut angka rezeki dapat manfaat lansir thechinesezodiacorg rabu angka angka rujuk yang jenis kelamin lakilaki sifat surgawi angka cocok guna lakilaki sesuai jenis kelamin angka sebut angka angka rujuk yin jenis kelamin perempuan angka rupa angka bawa rezeki angka arti baik selalu datang pasang dapat manfaat angka bagai merk bisnis double fortune double happiness lain bagai => bisnis\n",
      "observasi sebut laku pascaevakuasi wni wna wuhan china wabah virus corona => kesehatan\n"
     ]
    },
    {
     "name": "stdout",
     "output_type": "stream",
     "text": [
      "liputancom jakarta presiden joko widodo jokowi janji panggil menteri pendayagunaan aparatur negara reformasi birokrasi panrb selesai masalah tenaga hari lepas tenaga bantu suluh tani thl tbpp abdi lama tahun kira alam lapang sangat penting damping tani rangka baik produktivitas tani nanti panggil pak menteri panrb kata jokowi kutip laman sekretariat kabinet senin jokowi aku baru diberitahu gubernur jawa tengah ganjar pranowo ketua thl tbpp indonesia gunadi kena ada thl tbpp belum angkat jadi pegawai negeri sipil pns aparatur sipil negara asn kait aku sulit jawab langsung ngomong langsung senang tidak harus bicara masalah prosedur harus lalu percaya kita selesai masalahmasalah ada jangan paksa jawab sekarang jelas dia presiden aku ada suluh tani lapang sangat perlu sampai ini indonesia kurang banyak suluh tani lapang kalau ini bisa isi thl tbpp presiden akan lebih baik mereka sudah punya alam lapang tahun => bisnis\n",
      "liputancom jakarta calon presiden capres joko widodo jokowi nyata bijak tega hukum ada sektor laut ikan bukan semata dorong sejahtera nelayan buka ruang laku eksplorasi ladang minyak bawah laut kata empat tahun akhir perintah tangkap kejar kapal asing laku curi ikan air indonesia jumlah sebut banyak kapal tenggelam laut masa depan sekarang kapal ada sejahtera nelayan untuk manfaat sumber daya laut ujar hotel sultan jakarta minggu itu laut indonesia milik potensi belum gali baik ladang minyak sekarang ini banyak ladang minyak yang eksplorasi baik di dalam laut kita ladang minyak beri dapat banyak negara tandas => bisnis\n",
      "liputancom new york orangorang kaya dunia selalu tarik perhati bagaimana dapat uang apa laku uang bagai tahun catat juta orang dunia milik dapat tinggi dunia jumlah kaya jumlah seluruh usd triliun banyak asal amerika serikat bagi jadi beberapa kategori highnetworth ultrahighnetworth milik kaya kisar usd usd juta bahkan lebih benar apa jadi uanguang sebut lansir cnn banyak donasi uang milik perlu amal tahun lalu ceo amazon jeff bezos mackenzie bezos donasi usd miliar rangka day one fund bantu tunawisma amerika michael bloomberg beri bantu uang usd miliar almamater john hopkins university bagi besar donasi kaya mereka beri sokong edukasi layan sosial seni budaya sehat meski ketika hadap hobi minat miliarder tetap menomorsatukan apa mereka cinta sebut mereka suka olahraga sepak bola ski basket baseball dan tak jarang mereka investasi uang mereka untuk hobi olahraga sebut => bisnis\n",
      "otoritas jepang karantina sedikit orang dalam buah kapal pesiar kait wabah virus corona orang tumpang telah turun kapal pesiar nyata positif virus corona viruscorona => kesehatan\n",
      "liputancom jakarta debat calon presiden capres dua minggu malam hotel sultan senayan jakarta hadir jumlah elite politik jadi dukung capres jokowi widodo jokowi capres nomor prabowo subianto bagai tokoh dukung jadi tamu vip tampak datang gilir pasuk gedung lalu lobi b grand ballroom hotel sultan jakarta dasar pantau liputancom beberapa anggota penting tim kampanye nasional tkn jokowimaruf amin hadir sesi debat kali antara ketua tkn erick thohir wakil ketua tkn asrul sani direktur tkn aria bima hingga anggota dewan arah tkn pramono anung dari badan menang nasional bpn prabowosandi turut jumlah tokoh ketua bpn djoko santoso dewan arah bpn amien rais koordinator juru bicara bpn dahnil anzar simanjutak juru bicara bpn ferdinand hutahaean direktorat media komunikasi bpn imelda sari wakil ketua bpn rachmawati soekarnoputri wakil ketua dpr fahri hamzah tamu vip sebut hendak pasuk venue lobi b grand ballroom hotel sultan sempat penuh kelompok massa dukung dua paslon semara suasana lewat bagai yel kumandang karena anggap kampanye di tempat kurang tepat kelompok massa dukung kemudian desak tim satu aman geser wilayah lain agar ganggu kawasan sebut => bisnis\n",
      "liputancom jakarta tiga badan usaha jual bahan bakar minyak bbm kompak ubah harga bbm non subsidi awal maret turun harga akhir kali laku februari dasar pantau liputancom jumat stasiun isi bahan bakar umum spbu pertamina kawasan warung buncit jakarta usaha energi plat merat sebut jual bbm jenis pertamax turbo besar rp per liter pertamax rp per liter danpertamina dex rp per liter harga sebut ubah awal maret belum pertamina turun harga tiga jenis bbm sebut februari harga bbm shell dasar pantau spbu shell kawasan pejaten jakarta bbm jenis super jual rp per liter v power ron rp per liter diesel rp per liter usaha minyak minyak asal belanda sebut ikut putus pertamina ubah harga bbm awal maret sama pertamina shell total tidak ubah harga bbm jual pantau spbu total kawasan warung buncit jakarta usaha minyak asal prancis sebut membandrol bbm jenis performance rp per liter performance rp per liter danperformance diesel rp per liter ikut daftar harga bbm pertamina total shell per maret pertamina pertamax turbo rp per liter pertamax rp per liter pertamina dex rp per liter shell super jual rp per liter v power ron rp per liter diesel rp per liter total performance rp per liter performance rp per liter performance diesel rp per liter => bisnis\n",
      "bijak batas aktivitas dagang china antisipasi sebar virus corona proyeksi rugi ekonomi nasional => bisnis,kesehatan\n",
      "liputancom jakarta hingga senin februari pukul wib badan pegawai negara bkn tetap banyak nomor induk pegawai calon pegawai negeri sipil tahun nip cpns instansi seluruh instansi usul tetap nip bkn sebut diri instansi pusat menteri lembaga instansi daerah kabupatenkota meski total instansi sebut ada beberapa instansi progres penetepannya persenseperti bkn persen badan ekonomi kreatif persen bpkp masih persennamun tetap jadi kabar baik para cpns terima nanti telah temu titik terang kabar baik ini sendiri sampai langsung bkn lalu akun twitter resmi koreksi per feb pukul nip cpns instansi telah tetap cek right bar klik jadiasnr asnkerentanpakorupsi => bisnis\n",
      "kapal pesiar diamond princess karantina jepang labuh yokohama virus corona kbri tokyo informasi orang wni dalam kapal sebut tokyo via => kesehatan\n",
      "liputancom jakarta manajemen pt bank central asia bca rampung proses akuisisi satu bank kategori bank buku i ini sampai presiden direktur bca jahja setiaatmadja jelas pihak minta tuju pegang saham kait rencana akuisisi sebut rapat umum pegang saham luar biasa rupslb selenggara juni benar bca gelar rapat umum pegang saham rups april tilik proses akuisisi belum rampung april pihak laku rupslb rups april akan selesai april mungkin rupslb rencana juni rups selesai tuju annouce kata saat temu ice bsd tangerang selatan sabtu jahja tutur akuisisi sebut memang perlu dapat tuju pegang saham aksi korporasi akan beri dampak usaha salah satu harga saham bca relatif material material bukan segi value material kalau pengaruh saham nah tahu waktu announce bca pengaruh apa jadi tidak berani ambil risiko itu harus tuju rups dulu baru itu announce market ujar kata pasca akuisisi bank sebut tidak akan tetap diri sendiri alias tidak merger anak usaha bca untuk lini bisnis akan garap bank sangkut sedang kaji belum tentu digital well management mikro ukm pokok akan pilih salah satu fokus belum mau komen ungkap reporter wilfridus setu embu sumber merdekacom => bisnis\n",
      "elka pangestu kata dampak virus corona ekonomi indonesia langsung akan besar coronavirus => bisnis,kesehatan\n",
      "orang remaja difabel nama yam cheng lapor tinggal sang ayah karantina virus corona => kesehatan\n",
      "liputancom jakarta menteri hubung budi karya sumadi kata bangun lrt palembang sumatra selatan rupa proyek orientasi jangka panjang juga ban proyek hanya jadi monumen kata calon wakil presiden nomor urut prabowo subianto debat lalu budi karya palembang rupa salah satu kota besar indonesia ekonomi selalu tumbuh tahun demikian butuh moda transportasi massal memang siap din mungkin lrt palembang proyek orientasi tahun depan jadi kalau sekarang sepi kan pertama kali jadi mungkin langsung penuh memang terus bangun budaya masyarakat guna angkut massal kata budi karya jakarta rabu aku kemenhub jadi palembang kota contoh sarana transportasi massal siap sejak dini budi karya tak jakarta bangun lrt mrt laku kondisi kota terlalu padat alhasil bebas lahan proses konstruksi makin kompleks jadi benar kalau kata proyek ini tidak efisien banding beberapa negara seperti malaysia lebih efisien tegas => bisnis\n",
      "jumlah infeksi mati terus tingkat akibat virus corona rugi ekonomi timbul tidak kalah besar => bisnis,kesehatan\n",
      "liputancom jakarta hingga kamis februari pukul wib badan pegawai negara bkn tetap banyak nomor induk pegawai calon pegawai negeri sipil tahun nip cpns instansi seluruh instansi usul tetap nip bkn sebut diri instansi pusat menteri lembaga instansi daerah kabupatenkota meski total instansi sebut ada beberapa instansi progres penetepannya persenseperti menteri hukum hak asasi manusia kemenkumham persen menteri hubung kemenhub persen menteri koordinator bidang ekonomi persen jaksa agung persen menteri agraria tata ruangbadan tanah nasional persennamun tetap jadi kabar baik para cpns telah terima tunggu lama kabar baik sendiri sampai langsung bkn lalu akun twitter resmi pagi sobatbkn hingga tgl feb pukul jumlah nip cpns instansi telah tetap cek right bar klik jadiasn bknsemangatuntuknegeri asnkerentanpakorupsi kicau bkn sekadar informasi seleksi cpns selenggara menteri lembaga perintah daerah seleksi cpns tahun sebut tiga formasi jadi fokus tenaga didik isi banyak persen formasi tenaga sehat isi persen formasi isi tenaga teknis capai persen jumlah formasi isi formasi seleksi cpns ini bagi jadi yakni formasi umum formasi khusus formasi umum isi besar persen total formasi isi formasi khusus isi banyak formasi persen formasi khusus sebut paling banyak isi formasi eks tenaga honorer kii banyak formasi diaspora empat formasi isi imbuh menteri panrb syafruddin ikut instansi telah usul tetap nip cpns bkn menteri koordinator bidang politik hukum aman menteri koordinator bidang bangun manusia budaya menteri koordinator bidang maritim menteri pemuda olahraga menteri luar negeri menteri energi sumber daya mineral menteri sekretariat negara setjen wantannas badan pegawai negara lembaga terbang antariksa nasional arsip nasional republik indonesia badan koordinasi tanam modal badan kaji terap teknologi pustaka nasional ri badan awas tenaga nuklir lembaga tahan nasional ri badan nasional tempat lindung tki badan nasional cari tolong lembaga bijak ada barangjasa perintah pusat lapor analisis transaksi uang ombudsman republik indonesia badan nasional tanggulang terorisme badan awas pilih umum perintah provinsi riau perintah kab indragiri hilir perintah kab rok hulu perintah kab siak perintah kota dumai perintah kab agam perintah kab pasaman => bisnis\n",
      "liputancom jakarta soal edar film baja jadi tantang industri film indonesia model baja film ikut gerak selaras zaman dulu baja distribusi laku lewat edar dvd film baja kini baja mulai alih era digital arti salur konten ilegal laku lewat platform digital country manager viu indonesia varun mehta aku edar konten ilegal khusus tahun jadi indonesia kembang layan video ott overthetop pasar indonesia lihat destinasi legal semua baja indonesia sudah used to free content kata temu kantor bekraf jakarta senin tahun layan video ott alias platform nonton film legal mulai masuk indonesia semenjak biasa nonton akses konten ilegal angsur turun rubah biasa masyarakat tonton konten ilegal gratis tuju konten bayar aku memang mudah consumer saat ini belum siap bayar konten mereka bayar suatu waktu ungkap pertama laku pihak cipta minimal model layan masyarakat konten gratis bayar pertama cipta model premium bagi konten gratis ada konten bayar jelas pihak terus upaya dorong mudah masyarakat akses platform legal laku partnership ada sama telkomsel sama ecommerce player mudah akses dulu gabung sama behavior yang relevan kamu beli paket data bulan kamu akan makan hari gimana bikin paket consumer akses bisa dapat untung ujar habis itu tahun kemudian pikir ada stand alone payment for content service itu arah pandang imbuh => bisnis\n",
      "liputancom jakarta indeks harga saham gabung ihsg ramal koreksi dagang saham kamis performa ihsg kira laju zona merah kisar support resistance pekan investor nanti data produk domestik bruto gdp amerika serikat as segera rilis dari negeri investor nanti rilis lapor uang emiten tahun penuh iring momen wait and see tunggu laju ihsg prediksi lemah jangka pendek adapun teknikal indikator stochastic ada sekitar area overbought jenuh beli rentang kuat jadi batas itu lemah akibat faktor global the fed beri sinyal agresif naik suku bunga karena beberapa data ekonomi as tunjuk ada lemah ihsg mungkin dagang rentang ujar analis pt artha sekuritas dennies christoper jordan jakarta lanjut momentum pasar kini cenderung wait and see analis pt binaartha parama sekuritas muhammad naf memang nilai ihsg akan tekan hari potensi koreksi wajar ihsg prediksi akan labuh rentang harga ujar adapun saham rekomendasi dia hari ini ialah saham pt elnusa tbk elsa pt delta dunia makmur tbk doid pt astra international tbk asi dennies saran saham pt wijaya karya tbk wika pt sri rejeki isman tbk sril pt jasa marga tbk jsmr => bisnis\n",
      "liputancom jakarta presiden joko widodo jokowi debat calon presiden capres langsung pekan lalu nyata perintah impor jagung besar ton impor jagung turun banding periode belum benar ketua pusat kaji tani pangan advokasi pataka yeka hendra fatika kata dasar data menteri tani tan impor jagung pakan ternak masa pimpin jokowi memang turun tahun tahun meski catat turun imbas turun jagung ini dampak salah satu kait impor gandum dengan impor jagung kendali otomatis ternak cari alternatif pakan ternak jadi kalau pak jokowi bilang impor jagung hasil turun fakta bukan hoax pernah buka publik impor gandum pakan tingkat jagung kendali ujar dalam diskusi yang gelar menteri koordinator bidang ekonomi jakarta kamis belum juru kampanye nasional prabowosandiaga anggawira kata turun impor jagung tak ikut komoditas yakni gandum catat jadi naik impor gandum bijak henti impor jagung sejak perlu industri pakan nyata ikut tingkat impor gandum untuk perlu pakan ratarata juta ton per tahun sekitar rp triliun kata anggawira reporter dwi aditya putra sumber merdekacom => bisnis\n",
      "liputancom jakarta sekolah pilot diri anak bangsa daypilot hasil pecah rekor cetak lulus pilot pesawat komersil cepat dunia sekolah mampu cetak pilot siap terbang waktu hari masa latih diri daypilot capt gema merdeka goeyardi kata umum program latih pilot indonesia makan waktu tahun amerika kurang lebih bulan daypilot hasil jadi sekolah pilot pertama dunia hasil pecah rekor dunia cetak commercial pilot instrument rating cepat dunia hari license faa federal aviation administration usa pilot indonesia hasil lulus hari farandi angesti tahun lulus juni lalu ujar di jakarta kamis gema ungkap bisa cetak lulus pilot standar faa waktu cepat perlu kerja ekstra keras milik mampu bahasa inggris tinggi mampu kerja tim temu rahasia besar metode ajar management flight training tetap silabus cetak pilot waktu singkat harga jangkau kualitas dunia acu standard faa kata metode latih terap gema harap mampu penuh butuh pilot pesawat terbang komersial cepat dalam negeri lama butuh pilot pesawat sangat besar iring tumbuh bisnis terbang butuh pilot dunia kembang luas negaranegara di asia sangat butuh pilot dalam tahun datang gaji besar hingga usd ribu tahun china mereka butuh pilot lisensi faa itu indonesia negara pulau milik banyak bandara general aviation akan maju dalam tahun depan ungkap dia => bisnis\n"
     ]
    },
    {
     "name": "stdout",
     "output_type": "stream",
     "text": [
      "liputancom jakarta sinergi bumn resmi luncur linkaja rupa layan uang digital rupa gabung bagai layan uang digital bumn ganti wajah jadi satu linkaja linkaja rupa bentuk komitmen bumn hadir layan uang elektronik lebih baik lengkap masyarakat indonesia manfaat jaring bisnis kredibel milik bumn lalu mampu linkaja saing usaha jenis gopay ovo lain bagai deputi bidang usaha jasa uang survey konsultasi menteri bumn gatot trihargo kata hadir linkaja ramai pasar uang elektronik ikut ramai bukan hadir saing customer base gopay lain belum banyak juta kaya gatot wartawan jumat jelas gatot tahap awal linkaja bakal guna layan perban bumn sifat mandatori pilih bayar gerbang tol parkir bagai fasilitas kelola bumn lain bagai potensi pasar cukup besar sekarang sudah jadi ekosistem misal bayar jalan tol tinggal akselerasi alat bisa pakai qr code tegas hadir linkaja tuju utama beri efisiensi bankbank bumn begitu mulai saat bankbank bumn lagi investasi sendirisendiri selenggara uang elektronik sistem bayar digital ini kan customer basenya bankbank bumn bareng bareng promosi jadi duplikasi ucap gatot => bisnis\n",
      "era digital dapat oleh internet => bisnis\n",
      "lebih dua pekan virus corona ancam tumbuh konsumsi retail money => bisnis,kesehatan\n",
      "liputancom jakarta pimpin the federal reserve the fed bank sentral amerika serikat as jerome powell nilai ekonomi as tetap kuat meski bayang jumlah bahaya saksi tengah tahun ada bijak moneter powell kata the federal reserve awas ada seksama siap sesuai bijak perlu seluruh sebut prospek ekonomi as umum sehat hadap tantang luar negeri lihat kondisi ekonomi sehat prospek ekonomi untung lama beberapa bulan akhir lihat beberapa arus lintas sinyal tentang ujar powell kutip laman cnbc rabu pasar uang jadi lebih stabil jelang akhir tahun kondisi uang sekarang kurang dukung tumbuh belum tahun lalu tambah china eropa area perhati khusus the federal reserve amat bagaimana negosiasi brexit negosiasi dagang chinaas langsung kami hatihati pantau masalah libat kata the federal reserve nilai jebak selisih pasar beberapa bulan akhir picu khawatir kalau ada jalur bijak tetap terus encang kondisi lemah barubaru ini jabat the fed telah sampai pesan akan lebih besar sesuai suku bunga kurang obligasi pegang the fed neraca kutip reuters the federal reserve terburuburu buat nilai kena sesuai suku bunga ini timbang ekonomi cenderung lambat prospek dasar yang baik tumbuh lebih lambat luar negeri rupa hambat ekonomi as mungkin rasa lebih dalam beberapa bulan datang kata naik suku bunga empat kali antisipasi naik lebih lanjut pada the federal reserve sikap sabar khawatir ekonomi global pasar nilai ragu pulih ekonomi as saat ini suku bunga pinjam the federal reserve persen persen => bisnis\n",
      "liputancom jakarta menteri rencana bangun nasional ppnbappenas bambang brodjonegoro dorong bentuk lembaga kelola regulasi sinergi bagai bijak keluar pihak perintah ada lembaga sebut dorong tumbuh ekonomi tanah air dasar hasil kaji growth diagnostics menteri ppnbappenas catat salah satu faktor hambat tumbuh ekonomi indonesia regulasi institusi beberapa indikator lain regulasi tumpang tindih relatif tutup masuk pasar tenaga kerja kualitas institusi rendah utama isu koordinasi bijak bambang sorot tata regulasi tertib sederhana jadi solusi sekaligus tantang waktu sama lantar proses inventarisasi regulasi masih sebar empat kementerianlembaga menteri sekretariat negara menteri hukum ham badan bina hukum nasional bphn sekretaris kabinet lihat wenang regulasi sebar empat kementerianlembaga milik potensi disharmoni tinggi pikir ada suatu lembaga kelola regulasi akan integrasi fungsi susun bentuk atur kuat wenang jadi suatu niscaya tegas gedung bappenas jakarta rabu lembaga akan fokus susun bentuk regulasi jalan bijak bangun nasional tambah bambang kata sinergi regulasi bijak penting kurang inefisiensi anggar bangun nasional lalu susun regulasi ukur klasifikasi regulasi penting lihat meta kementerianlembaga libat sektor bangun awal padu regulasi tingkat pusat daerah ujar kait antar regulasi jadi landas awal minimal potensi tumpangtindih wenang akibat output ekonomi nasional turun produktivitas usaha tambah => bisnis\n",
      "wabah virus corona imbas bisnis sarang burung walet harga sarang burung walet terus merosot masuk kabupaten kotawaringin timur kalimantan tengah viruscorona sarangburungwalet => bisnis,kesehatan\n",
      "liputancom jakarta mass rapit transit mrt jakarta warga dki jakarta pasti nikmat moda transportasi kereta ringan light rail transit lrt jakarta bulan depan dasar pantau liputancom kondisi lrt jakarta memang cukup laik singgah para tumpang cepat nyaman lrt jakarta lengkap ac guna rasa nyaman dalam direktur utama pt lrt jakarta allan tandiono jelas progres bangun lrt jakarta capai persen pihak aku siap operasi lrt bulan maret sekarang kami sedang kejar proses uji sistem perkeretaapian menteri hubung kemenhub sertifikasi sdm sedang langsung tim rapat tim menteri final sop awat ujar stasiun velodrome jakarta timur senin lanjut saat pihak tengah nanti tetap tarif lrt jakarta perintah provinsi pemprov dki belum sampai kisar harga semua tunggu pemprov ungkap direktur utama transjakarta agung wicaksono terang ada lrt jakarta nanti ialah upaya perintah integrasi moda transportasi umum lrt hadir integrasi karena itu kami siap gandeng mrt lrt tandas => bisnis\n",
      "larang terbang china waktu nilai buat maskapai hilang dapat => bisnis\n",
      "liputancom jakarta indonesia pasti jadi tuan rumah balap motogp balap selenggara mandalika lombok nusa tenggara barat ntb kembang kawasan mandalika pt kembang pariwisata indonesia persero itdc aku dapat kontrak selenggara balap direktur utama pt kembang pariwisata indonesia abdulbar m mansoer kata pihak laku penandatangan kontrak pihak selenggara motogp dorna tahu detail ikut empat fakta sirkuit mandalika mulai bangun oktober bangun sirkuit motogp mulai kuartal iv tahun tepat bulan oktober kembang kawasan mandalika pt kembang pariwisata indonesia persero itdc laku kontrak dorna pihak selenggara motogp bangun sirkuit itdc guna infrastruktur dasar jalan kembang itdc bekerjasama usaha asal perancis vinci construction grands project untuk lapis jalan sirkuit bangun fasilitas kembang kawasan sirkuit bangun sirkuit sendiri makan waktu hingga bulan sirkuit jalan raya pertama motogp sirkuit balap mandalika gadang akan jadi sirkuit beda pasal biasa tanding selesai sirkuit kosong sirkuit mandalika justru tetap operasi jalan raya lalu kendara umum sirkuit jalan akan bangun nol seperti trek singapura monako tidak balap akan guna jalan raya biasa daerah sebut ujar abdulbar m mansoer direktur umum pt kembang pariwisata indonesia => bisnis\n",
      "jumlah korban tinggal akibat virus corona china lapor tembus angka orang coronavirus => kesehatan\n",
      "liputancom jakarta jadi ibu rumah tangga bukan arti kamu perlu duduk manis rumah tutup diri bagai giat manfaat kreasi banyak lo ibu rumah tangga milik usaha samping nyata sangat sukses tak pusing eksistensi mereka kejar mimpi sukses kutip swara tunai sosok inspiratif wajib kenal lanny siswadi milik sambal rudy siapa tak tahu sambal rudy sambal kemas kenal oleholeh khas surabaya tak kenal surabaya lo seluruh indonesia bahkan hingga luar negeri milik adalah lanny siswadi orang rumah tangga asal madiun ikut suami surabaya awal kisah si suami bawa ikan hasil pancing rumah karena bu lanny suka makan pedas betul juga temantemannya datang akhir buat sambal enak semua rekan saran buka warung makan nah bekal sampai ini bu lanny produksi sambal kemas => bisnis\n",
      "meski jadi ancam dunia world health organization who sebut wabah virus corona ncov bukan suatu pandemi viruscorona via => kesehatan\n",
      "terpa krisis sehat akibat rebak virus corona negara tirai bambu justru pacu laku baik => bisnis,kesehatan\n",
      "liputancom jakarta menteri uang sri mulyani kata teknologi pegang peran penting hidup masyarakat bahkan ubah perilaku masyarakat sendiri semua paham teknologi sekarang milik peran sangat penting hadir suatu asing bahkan hadir ubah hidup masyarakat hidup semua kata sri mulyani gedung bpjs sehat jakarta senin ungkap ini hampir semua aspek hidup masyarakat jamah teknologi bahkan gantung hadir teknologi sebut makin advance makin efisien tadi bayang jadi jadi jadi ujar lanjut dalam era revolusi industri ini muncul fenomena bisnis model baru bas customer centric data jadi sangat penting kalau tahu siapa yang layan feedback pakai survei sekarang tak perlu isi kuisioner internet semua tercapture transaksi semua lewat digital ujar oleh data jadi lebih gampang tidak perlu laku survei manual minta data misal dapat data konsumsi bisa minta ecommerce you dont have to survey kita bisa buka data bukalapak tokopedia shopee ini kenapa data is a new miningjadi tambang baru kalau dulu tambang emas timah batu bara berlian sekarang siapa manusia kaya semua has nothing to do with resources something to do with data and techno ujar dia reporter yayu agustini rahayu sumber merdekacom => bisnis\n",
      "liputancom jakarta guna tenaga alih daya outsoursing jadi praktik lumrah laku perusahaanperusahaan dunia masuk indonesia sering kali jadi masalah buah usaha laku putus hubung kerja phk kerja status outsoursing ketua umum asosiasi bisnis alih daya indonesia abadi greg chen kata buah usaha laku phk tenaga outsoursing sesuai undangundang uu ketenagakerjaan laku dasar tentu atur janji kerjasama pks usaha kerja masalah biasa jadi bila kontrak kerja panjang sesuai tentu perundangundangan sah putus kontrak phk di tengah jalan undangundang harus klien bayar gaji pokok juga tunjang masih sisa sesuai kontrak harus jalan semua regulasi ikut umum jadi masalah ujar di jakarta jumat dia bidang industri apa masuk migas kapal perban semua atur ikut komunikasi lancar ada itikad baik usaha kerja proses phk jalan mulus balik masalah jadi kontrak panjang ada risiko jadi penyalahgunaan langgar atur usaha biasa akan ujung selesai lalu jalur hukum lalu adil hubung industrial phi demikian selesai lalu jalur phi mati ingat proses selesai panjang belit habis dana tidak sedikit akan lebih pilih selesai langsung lalu runding bipartite dengan karyawan kerja kata pria juga ceo pt outsource indonesia ini => bisnis\n",
      "liputancom jakarta otoritas jasa uang ojk komisi berantas korupsi kpk desak usaha financial technology fintech beri pinjam online segera daftar diri oleh izin usaha ojk ini tekan cegah tindak cuci uang money laundering transaksi pinjam online kini mulai marak laku daring ketua dewan komisioner ojk wimboh santoso sampai ojk lebih mudah pantau giat bisnis usaha fintech daftar banding tidak kalau daftar arah enggak abusing nasabah kamu sedia modal arah jadi baik jadi dorong moral tidak tipu ucap di hotel ayana jakarta selasa kalau enggak daftar tetap suku bunga tinggi nagihnya kasar kalau ada yang daftar gampang ambil langsung ambil proses kalau enggak daftar enggak lihat tambah bila seperti dia terus risiko jadi tindak cuci uang pasti lebih besar lantar gerak ojk laku sidi jadi batas => bisnis\n",
      "perintah larang impor hewan hidup china cegah sebar virus corona hewan apa paling banyak impor china impor via => bisnis,kesehatan\n",
      "kirim masker sebut antisipasi sebar virus corona masyarakat indonesia tinggal hongkong => bisnis,kesehatan\n",
      "liputancom jakarta pt bal bintang sejahtera badan usaha bawah klub sepak bola bal united lepas saham perdana publik initial public offering ipo persen ceo bal united yabes tanur terang rencana persero lantai bursa saham lama canang diri aku banyak fans desak kapan klub sepakbola ipo mau ipo banyak nanyain ke fans nanya kena angka kena ipo jadi pikir kalau mau buka buka sekali tutur di gedung bursa efek indonesia bei selasa jelas bal united tunjuk pt kresna sekuritas pt buana capital sekuritas jamin laksana emisi efek underwriter rencana ipo ia mamaparkan kapan persero tepat laku ipo ngobrol pt kresna sekuritas pt buana capital waktu sendiri masih tunggu ujar itu direktur uang bal bintang sejahtera yohanes bunian moniaga ungkap usaha incar dana ipo rp miliar kirakira rp an miliar detail kurang tahu kata ungkap persero guna buku desember ipo mungkin laku april mei timetablenya april mei pokok pakai buku desember jadi sampai juni kita lihat pungkas => bisnis\n",
      "liputancom jakarta menteri pendayagunaan aparatur negara reformasi birokrasi panrb syafruddin kata terap sistem akuntabilitas kerja instansi perintah sakip pemda wilayah iii hasil hemat anggar hingga rp triliun hemat turut oleh lalu cross cutting program kurang sesuai kemudian alih lalu refocusing program anggar tepat sasar lalu sakip paradigma kerja perintah ubah bukan laku program anggar cara paling efektif efisien capai sasar efisiensi hemat hasil capai sakip bukan bocor ujar di makassar selasa tutur terap sakip pasti anggar hanya guna biaya program atau giat prioritas dukung capai tuju bangun hemat anggar jadi hapus jumlah giat penting tidak dukung kerja instansi mantan wakapolri harap tata kelola kerja seluruh kementerianlembaga perintah daerah pemda program program jalan tepat sasar efektif efisien sekian lama juang capai titik tidak henti akhir sini terus baik tata kelola perintah yang lebih baik lebih baik di tahun datang ujar => bisnis\n",
      "liputancom jakarta perban sangat andal sektor pariwisata travel genjot guna kartu kredit bukti banyak institusi perban beri banyak promo cashback tarik guna kartu kredit hendak libur salah satu pt bank mandiri persero gandeng japan national tourism organization jnto gelar japan travel fair pamer nasabah manfaat promo tarik libur jepang vira widiyasari selaku senior vice president credit cards group bank mandiri papar kontribusi sektor pariwisata tumbuh kartu kredit sangat besar hampir persen guna kartu kredit asal sektor kontribusi cukup bagus kirakira persen lah komposisi tiket pesawat hotel makan lain ungkap vira jakarta selatan jumat vira tambah ini adalah pertama kali bank mandiri kolaborasi sektor pariwisata depan bank mandiri kerja sama lain guna kartu kredit terus tumbuh target bank mandiri beri nilai lebih nasabah akan makin percaya enggak target berapa berapa jelas mandiri kasih value added nasabah rasa lebih nyaman percaya kami tambah => bisnis\n",
      "liputancom jakarta pt akr corporindo british petroleum bp lirik pasar avtur indonesia belum presiden joko widodo jokowi niat buka sempat pihak swasta jual avtur indonesia direktur utama akr haryanto adikoesomo kata akr pakat kerjasama bp bisnis hilir siantaranya jual avtur usaha sedang laku siap jalan bisnis sebut akr menandatangani join venture sama bp bisa jual avtur saat ini sedang siap kata haryanto jakarta kamis akr bp incar pasar avtur wilyah indonesia timur wilayah sebut milik potensi besar belum penuh butuh avtur di indonesia timur akan kembang lebih karena indonesia timur punya potensi lebih besar tutur => bisnis\n",
      "semenjak virus corona kabar tular antarmanusia masker jadi barang langka manamana kecuali lokasi observasi wni wuhan natuna via => kesehatan\n"
     ]
    },
    {
     "name": "stdout",
     "output_type": "stream",
     "text": [
      "liputancom jakarta gerak indeks harga saham gabung ihsg gerak zona hijau dagang saham kamis pekan hal ikut gera bursa saham global pra buka dagang saham kamis ihsg kuat poin persen posisi pukul wib ihsg naik poin persen posisi indeks saham lq kuat persen posisi bagi besar indeks saham acu kuat indeks saham pefindo turun persen banyak saham kuat angkat ihsg saham lemah saham diam tempat awal sesi dagang ihsg sempat ada level tinggi rendah total frekuensi dagang saham kali volume dagang juta saham nilai transaksi hari saham rp miliar investor asing lanjut aksi jual rp miliar pasar regular posisi dolar amerika serikat as ada kisar rp sektor saham kompak kuat sektor saham tambang naik persen catat kuat besar susul sektor saham dagang daki persen sektor saham aneka industri tanjak persen sahamsaham mampu catat top gainers lain saham soss daki persen posisi per saham saham inpp tanjak persen posisi per saham saham bmsr kuat persen posisi per saham itu sahamsaham tekan lain saham giaa turun persen posisi per saham saham etwa pangkas persen posisi per saham saham lpli susut persen posisi per saham bursa saham asia variasi dagang kamis pekan indeks saham hong kong hang seng turun persen indeks saham shanghai merosot persen indeks saham singapura susut persen indeks saham korea selatan kospi lemah persen indeks saham jepang nikkei kuat persen indeks saham taiwan daki persen => bisnis\n",
      "liputancom jakarta satu kerja khusus laksana giat usaha hulu minyak gas bumi skk migas nyata repsol temu potensi cadang gas besar blok sakakemang sumatera selatan kepala skk migas dwi soetjipto kata tak tanggungtanggung cadang gas temu usaha migas asal spanyol sebut kira capai triliun kaki kubik tcf lokasi banyu asin potensi lebih kurang tcf asumsi sekarang rig hb kadang kerja tahun tahun gak dalam meter cadang laku dengan kbd kurang beri hasil bagus nyata belah lebih bagus cadang ujar kantor menteri esdm jakarta kamis potensi gas besar temu ladang gas jadi sejarah baru indonesia tahun akhir temu cadang gas baru jumlah besar penting sampai kbd x indonesia potensi sebut tahun adalah temu signifikan telah dua dekade perlu syukur moga jadi angin baru temu datang adalah temu besar nomer di dunia kata dia => bisnis\n",
      "menteri sehat periksa orang duga jangkit virus corona februari pukul wib => kesehatan\n",
      "liputancom jakarta usaha mikro kecil tengah umkm digadanggadang jadi tonggak ekonomi indonesia tengah kembang era digitalisasi umkm indonesia mampu maksimal peluang potensi alat kembang usaha amat ekonomi digital yudi candra kata hingga akhir jumlah usaha mikro banyak juta unit usaha kecil unit usaha besar unit begitu go digital baru lima persen sisa sangat konvensional kembang usaha kalau amerika serikat persen sudah go digital indonesia baru persen saja ujar jakarta selasa tutur beberapa faktor sebab umkm indonesia alami lambat tumbuh usaha modal sumber daya manusia sdm mampu tembus pasar modal umkm kendala masalah jaring pasar penting umkm melek media mampu rambah pasar lebih luas ungkap saja tengah hiruk pikuk mudah promosi laku di media bas online media sosial medsos kurang bisa manfaat laku umkm minim damping perintah paham digitalisasi potensi media sosial sarana promosi sadar tahu laku promosi lalu medsos sangat minim sangat banyak sekali laku usaha belum buat medsos bahkan sedikit sudah punya saja bisa operasi karena buat orang lantas bagaimana bisa promosi produk kalau punya akun tidak operasi medsos ujar itu pria yang juga jabat bagai ceo pt duta sukses dunia harap perintah mulai beri perhati serius umkm nasional dongkrak ekonomi nasional lebih mampu tingkat taraf hidup masyarakat luas umkm butuh perhati lebih bukan biar liar jalan sendirisendiri kata => bisnis\n",
      "liputancom jakarta menteri pendayagunaan aparatur negara reformasi birokrasi panrb klaim boros anggar pusat maupun daerah besar rp triliun rupa buah upaya baik potensi inefisiensi kegiatankegiatan sudah sejak zaman terus ulang baik deputi reformasi birokrasi akuntabilitas aparatur awas rb kunwas menteri panrb m yusuf ateh tekan perintah dorong baik keluar anggar apbnapbd lebih utama prioritas ikut alur tahap capai jumlah sebut rp triliun bukan nilai proyek mark up giat laksana wujud hasil fokus prioritas sentuh sasar pinggir belum terhujam langsung inti outcome tegas di jakarta kamis karena nyata perintah kini lebih fokus program langsung sentuh sasar prioritas catat hasil evaluasi sistem akuntabilitas kerja instansi perintah sakip sempat temu ada rp triliun anggar perintah pusat dan daerah tidak buah hasil => bisnis\n",
      "dokter spesialis paru rumah sakit rajavithi thailand ujar pasien langsung negatif virus corona selang jam sejak pakai racik => kesehatan\n",
      "liputancom jakarta usaha ungkap alas truk angkut logistik enggan mau masuk jalan tol trans jawa salah satu lantar tarif tol nilai sangat tinggi wakil ketua umum asosiasi usaha jasa kirim ekspres pos logistik indonesia asperindo budi paryanto kata tarif tol tinggi memang jadi alas utama truk angkut logistik enggan masuk jalan tol truk enggak mau masuk biaya sistem truk borong misal hari sana tuju biaya sekian ujar jakarta rabu sebab lanjut tol baru resmi pada beberapa ruas di trans jawa tetap tarif lebih murah ada tol sebut mati truk logistik harus sekian tahun pertama harus familiarsiasi dulu jangan masuk tinggi nanti kata tarif tol mau naik ungkap tarif tol kena langsung tinggi kata budi akibat ada tol justru manfaat maksimal tuju bangun tol untuk tekan biaya logistik capai manfaat tidak maksimal karena ada regulasiregulasi tandas => bisnis\n",
      "total orang nyata positif virus corona dalam kapal pesiar sedang karantina jepang kapalpesiar viruscorona jepang => kesehatan\n",
      "liputancom jakarta injak usia ke bca beri hadiah nasabah setia bca salah satu fitur baru bca mobile fitur makin mudah transaksi perban luncur bca keyboard presiden direktur bca jahja setiaatmadja kata agam digitalisasi belakang marak hadir sungguh pengaruh pola perilaku masyarakat salah satu perilaku masyarakat hal komunikasi tren cukup andal aplikasi chatting smartphone agam digitalisasi perban tepat kami bangun rangka jawab tren masyarakat masa kini utama habit masyarakat beraktifitas seharihari makin banyak interaksi lalu mediaamedia digital latar belakang ini dorong bca hadir fitur baru bca keyboard kata jahja bsd tangerang selatan sabtu ini bisa guna bagai aplikasi line whatsapp facebook messenger instagram twitter ada bentuk chat bisa guna fitur bca keyboard tambah dia tutur cakap chatting teman kerabat tutup mungkin nasabah minta untuk segera laku transaksi perban reporter wilfridus setu embu sumber merdekacom => bisnis\n",
      "bayi asal china sebut rupa orang muda kena virus corona wuhan => kesehatan\n",
      "liputancom jakarta kubu prabowo subianto ramai politik indonesia lewat istilah bocor milik menteri uang coba lurus paham kena bocor anggar kepala biro komunikasi layan informasi kemenkeu nurfransa wira sakti tutur salah kaprah perihal anggar bocor tax ratio kata kubu prabowo nilai tax ratio pas tolok ukur bocor anggar lantar tax ratio sering alami sesuai sesuai kondisi ekonomi ekonomi lesu perintah beri stimulus upa turun tarif pajak insentif kecuali pajak tax holiday tax allowance pajak tanggung perintah ekonomi pulih gairah tumbuh situasi sebut tax ratio justru buat turun ujar nurfransa kutip laman facebook senin balik tax ratio naik kondisi ekonomi sedang alami overheating minta tingkat lewat kapasitas produksi bubble siklus dagang besar sesuai nilai aset kondisi overheating bubble akibat krisis ekonomi kondisi uang tidak kendali nufransa turut jelas situasi arti anggar bocor ketika jadi inefisiensi atau korupsi jenis bocor bila masyarakat tahu lapor aparat tegak hukum masuk kpk negara indonesia negara hukum ujar nufransa lembaga yang tidak efisiensi lemah rencana memang akibat bocor anggar tawar nufransa laku akarakarnya kompetensi budaya transparansi lemah jenis rupa soal kapasitas kualitas birokrasi yang fundamental obat reformasi birokrasi bangun budaya transparansi akuntabilitas bangun kompetensi birokrasi tegas => bisnis\n",
      "liputancom jakarta tumbuh ekonomi indonesia terus jaga tunjuk tumbuh ekonomi indonesia kuartal iv tetap kuat realisasi tumbuh produk domestik bruto pdb kuartal iv besar persen year on yearyoy sedikit naik banding capai kuartal belum persen kembang tumbuh ekonomi indonesia tingkat periode besar persen jadi persen yoy tumbuh ekonomi tinggi lima tahun akhir kutip laman bi kamis direktur eksekutif departemen komunikasi bi agusman tutur tumbuh ekonomi kuartal iv utama dorong minta domestik peran minta domestik besar banyak pengaruh konsumsi rumah tangga konsumsi lembaga non profit layan rumah tangga lnprt tumbuh konsumsi rumah tangga tingkat lima persen kuartal iii jadi persen kuartal iv tingkat konsumsi rumah tangga dorong dapat masyarakat baik inflasi kendali tingkat yakin konsumen naik konsumsi lnprt tingkat persen yoy kuartal iii jadi persen yoy pengaruh tingkat belanja konsumsi kait siap selenggara milu minta domestik kuat pengaruh investasi masih tinggi itu kerja ekspor turun iring tumbuh ekonomi global landai => bisnis\n",
      "ngeri cuma detik obrol masker pria kabar infeksi virus corona baru wabah wuhan bisa viruscorona via => kesehatan\n",
      "indonesia perlu baik ini akses duduk dapat kerja tingkat dapat tambah money => bisnis\n",
      "laboratorium menteri sehat nyata ls negatif infeksi virus corona periksa sampel cair tenggorok => kesehatan\n",
      "nyata positif wanita sebut laku kontak fisik majikan rupa nyata positif idap virus corona => kesehatan\n",
      "rebak virus corona buat minta masker kian tingkat masuk blitar stok makin tip buat harga masker naik berkalikali lipat masker viruscorona => bisnis,kesehatan\n",
      "liputancom jakarta kabar baik anda lagi cari kerja salah satu badan usaha milik negara bumn pasal bumn sedia logistik pt bhanda ghara reksa persero sedang buka lowong kerja baru kali pt bhanda ghara reksa buka lowong kerja posisi legal officer daftar lowong kerja buka hingga februari kutip laman resmi pt bhanda ghara reksa selasa ikut syarat para lamar kerja tata cara daftar lowong kerja sebut legal officer syarat priawanita usia maksimal tahun didik minimal s hukum akreditasi program studi akreditasi a universitas muka ipk minimal utama milik alam minimal tahun posisi sama kuasa bahasa inggris skor toefl minimal minimal conversation level beginner tinggi badan minimal cm pria minimal cm wanita berat badan ideal utama milik sertifikat didik khusus profesi advokat fresh graduated boleh lamar kuasa microsoft office => bisnis\n",
      "who deklarasi wabah virus corona darurat global ini jadi level pandemik tahu flu babi pernah jadi pandemik => kesehatan\n",
      "lengkap diri masker pergi saran kamu senjata diri asuransi jalan tengah serang virus corona apa manfaat viruscorona asuransi via => bisnis,kesehatan\n",
      "mana negara tarik pajak hasil besar dunia => bisnis\n",
      "liputancom jakarta menteri kerja umum rumah rakyat pupr basuki hadimulyono kata perintah bahas kait kompensasi tarif tol trans jawa ini susul ada minta usaha logistik ada kompensasi tarif tol trans jawa tarif tol rasa mahal kemarin bahas rapat internal istana kata temu jakarta kamis meski basuki aku besar kompensasi tarif putus rapat langsung istana negara sebut saat ini pihak tengah tunggu hitunghitungan laku badan atur jalan tol bpjt sama kelola jalan tol bujt badan usaha jalan tol belum putus dihitunghitung lagi oleh bptj bujt tunggu selesai hitung banyak sekali bujtnya tandas reporter wilfridus setu embu sumber merdekacom => bisnis\n",
      "lagilagi perintah tempat sadar virus corona tular lalu udara tren => kesehatan\n",
      "liputancom jakarta perintah nyata atur kena mobil listrik dekat tahap final adapun jadi sorot atur sebut insentif muat lokal menteri koordinator menko bidang maritim luhut binsar pandjaitan gelar rapat koordinasi rakor kait mobil listrik kantor turut hadir rakor menteri industri airlangga hartarto kepala staf presiden moeldoko moeldoko kata rapat laku luhut bahas kena atur kait mobil listrik salah satu kena insentif proses godok atur presiden pres kata dekat tahap final mungkin dekat final masalah insentif muat lokal kata kemenko maritim jakarta selasa kata moeldoko rakor turut bahas kena siap kembang pabrik baterai listrik lanjut bangun pabrik komponen baterai litium morowali kemarin sudah siap material baterai pabrik di morowali kesiap untuk tuju pabrik baterai pokok ujar moeldoko luhut kata pihakpihak libat godok pres mobil listrik terus kerja utama kait halhal teknis akan masuk pres jadi bahas ada beberapa teknis tadi masalah pres ini nanti tanggal final tadi masalah wordingwording kalimatkalimatnya yang ada pasal ini pasal itu yang kontradiktif ujar luhut reporter wilfridus setu embu sumber merdekacom => bisnis\n",
      "teknologi manfaat china atas virus corona pakai drone awas masyarakat ancam virus viruscorona via => kesehatan\n"
     ]
    }
   ],
   "source": [
    "from sklearn.feature_extraction.text import CountVectorizer\n",
    "from sklearn.feature_extraction.text import TfidfTransformer\n",
    "import joblib\n",
    "from sklearn.naive_bayes import MultinomialNB\n",
    "\n",
    "# # Mengaktifkan/memanggil/membuat fungsi klasifikasi Naive Bayes dan OnVsRest\n",
    "classifier = MultinomialNB()\n",
    "# # Memasukkan data training\n",
    "classifier.fit(x_train, y_train)\n",
    "y_pred = classifier.predict(x_test)\n",
    "#hitung akurasi data test\n",
    "score = classifier.score(x_test, y_test)\n",
    "# all_labels = mlb.inverse_transform(pred)\n",
    "modelfile = 'modelNB-real.sav'\n",
    "labelfile = 'vectorizer-real.sav'\n",
    "joblib.dump(classifier, modelfile)\n",
    "joblib.dump(vectorizer, labelfile)\n",
    "for item, labels in zip(vectorizer.inverse_transform(x_test), y_test):\n",
    "    print('{0} => {1}'.format(\" \".join(item),labels))\n"
   ]
  }
 ],
 "metadata": {
  "kernelspec": {
   "display_name": "Python 3",
   "language": "python",
   "name": "python3"
  },
  "language_info": {
   "codemirror_mode": {
    "name": "ipython",
    "version": 3
   },
   "file_extension": ".py",
   "mimetype": "text/x-python",
   "name": "python",
   "nbconvert_exporter": "python",
   "pygments_lexer": "ipython3",
   "version": "3.7.5"
  }
 },
 "nbformat": 4,
 "nbformat_minor": 2
}
